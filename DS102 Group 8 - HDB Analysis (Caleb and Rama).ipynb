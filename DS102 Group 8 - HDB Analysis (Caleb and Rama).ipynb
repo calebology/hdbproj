{
 "cells": [
  {
   "cell_type": "markdown",
   "metadata": {},
   "source": [
    "# Introduction/Preface\n",
    "\n",
    "The purpose of this study is to use descriptive and inferential statistical methods to derive information from HDB apartments and their features. \n",
    "\n",
    "The data set used can be found at https://data.gov.sg/dataset/resale-flat-prices"
   ]
  },
  {
   "cell_type": "markdown",
   "metadata": {},
   "source": [
    "# Key Assumptions\n",
    "- Data used is sourced from data.gov.sg for HDB resale prices. The data set starts from January of 2017 and ends at March of 2020.\n",
    "\n",
    "\n",
    "\n",
    "- Inflation will not be factored in. Within a three year span, inflation fluctuations affect prices by less than 0.1% (Statista, 2020).\n",
    "\n",
    "\n",
    "\n",
    "- The research question is: Which predictor is most heavily weighted in determining resale price?\n",
    "    - How can HDB apartments be classified and clustered according to their features?\n",
    "    \n",
    "\n",
    "    \n",
    "- Due to time and resource constraint, only 2 variables will be chosen for the multiple linear regression. More than 2 variables might lead to overfitting of the model to the training data, resulting in sub-optimal predictive performance\n",
    "    - 4 Univariate Linear Regressions will be conducted to determine which are the most heavily weighted predictors of price per square meter, followed by a Multiple Linear Regression collecting the most relevant and weighted predictors\n",
    "\n",
    "## Reference\n",
    "\n",
    "Statista, 2020. Singapore: Inflation rate from 1984 to 2021. https://www.statista.com/statistics/379423/inflation-rate-in-singapore/"
   ]
  },
  {
   "cell_type": "code",
   "execution_count": 44,
   "metadata": {},
   "outputs": [],
   "source": [
    "import pandas as pd\n",
    "import seaborn as sns\n",
    "import mplleaflet\n",
    "import matplotlib.pyplot as plt\n",
    "import warnings\n",
    "\n",
    "warnings.filterwarnings('ignore')"
   ]
  },
  {
   "cell_type": "markdown",
   "metadata": {},
   "source": [
    "## Part 1: Data Cleaning and Wrangling"
   ]
  },
  {
   "cell_type": "code",
   "execution_count": 18,
   "metadata": {},
   "outputs": [
    {
     "data": {
      "text/plain": [
       "month                  False\n",
       "town                   False\n",
       "flat_type              False\n",
       "block                  False\n",
       "street_name            False\n",
       "storey_range           False\n",
       "floor_area_sqm         False\n",
       "flat_model             False\n",
       "lease_commence_date    False\n",
       "remaining_lease        False\n",
       "resale_price           False\n",
       "dtype: bool"
      ]
     },
     "execution_count": 18,
     "metadata": {},
     "output_type": "execute_result"
    }
   ],
   "source": [
    "hdb_data = pd.read_csv(\"resale-flat-prices-based-on-registration-date-from-jan-2017-onwards.csv\")\n",
    "\n",
    "\n",
    "\n",
    "hdb_data.isna().any()"
   ]
  },
  {
   "cell_type": "code",
   "execution_count": 19,
   "metadata": {},
   "outputs": [
    {
     "data": {
      "text/html": [
       "<div>\n",
       "<style scoped>\n",
       "    .dataframe tbody tr th:only-of-type {\n",
       "        vertical-align: middle;\n",
       "    }\n",
       "\n",
       "    .dataframe tbody tr th {\n",
       "        vertical-align: top;\n",
       "    }\n",
       "\n",
       "    .dataframe thead th {\n",
       "        text-align: right;\n",
       "    }\n",
       "</style>\n",
       "<table border=\"1\" class=\"dataframe\">\n",
       "  <thead>\n",
       "    <tr style=\"text-align: right;\">\n",
       "      <th></th>\n",
       "      <th>month</th>\n",
       "      <th>town</th>\n",
       "      <th>flat_type</th>\n",
       "      <th>block</th>\n",
       "      <th>street_name</th>\n",
       "      <th>storey_range</th>\n",
       "      <th>floor_area_sqm</th>\n",
       "      <th>flat_model</th>\n",
       "      <th>lease_commence_date</th>\n",
       "      <th>remaining_lease</th>\n",
       "      <th>resale_price</th>\n",
       "    </tr>\n",
       "  </thead>\n",
       "  <tbody>\n",
       "    <tr>\n",
       "      <td>0</td>\n",
       "      <td>2017-01</td>\n",
       "      <td>ANG MO KIO</td>\n",
       "      <td>2 ROOM</td>\n",
       "      <td>406</td>\n",
       "      <td>ANG MO KIO AVE 10</td>\n",
       "      <td>10 TO 12</td>\n",
       "      <td>44.0</td>\n",
       "      <td>Improved</td>\n",
       "      <td>1979</td>\n",
       "      <td>61 years 04 months</td>\n",
       "      <td>232000.0</td>\n",
       "    </tr>\n",
       "    <tr>\n",
       "      <td>1</td>\n",
       "      <td>2017-01</td>\n",
       "      <td>ANG MO KIO</td>\n",
       "      <td>3 ROOM</td>\n",
       "      <td>108</td>\n",
       "      <td>ANG MO KIO AVE 4</td>\n",
       "      <td>01 TO 03</td>\n",
       "      <td>67.0</td>\n",
       "      <td>New Generation</td>\n",
       "      <td>1978</td>\n",
       "      <td>60 years 07 months</td>\n",
       "      <td>250000.0</td>\n",
       "    </tr>\n",
       "    <tr>\n",
       "      <td>2</td>\n",
       "      <td>2017-01</td>\n",
       "      <td>ANG MO KIO</td>\n",
       "      <td>3 ROOM</td>\n",
       "      <td>602</td>\n",
       "      <td>ANG MO KIO AVE 5</td>\n",
       "      <td>01 TO 03</td>\n",
       "      <td>67.0</td>\n",
       "      <td>New Generation</td>\n",
       "      <td>1980</td>\n",
       "      <td>62 years 05 months</td>\n",
       "      <td>262000.0</td>\n",
       "    </tr>\n",
       "    <tr>\n",
       "      <td>3</td>\n",
       "      <td>2017-01</td>\n",
       "      <td>ANG MO KIO</td>\n",
       "      <td>3 ROOM</td>\n",
       "      <td>465</td>\n",
       "      <td>ANG MO KIO AVE 10</td>\n",
       "      <td>04 TO 06</td>\n",
       "      <td>68.0</td>\n",
       "      <td>New Generation</td>\n",
       "      <td>1980</td>\n",
       "      <td>62 years 01 month</td>\n",
       "      <td>265000.0</td>\n",
       "    </tr>\n",
       "    <tr>\n",
       "      <td>4</td>\n",
       "      <td>2017-01</td>\n",
       "      <td>ANG MO KIO</td>\n",
       "      <td>3 ROOM</td>\n",
       "      <td>601</td>\n",
       "      <td>ANG MO KIO AVE 5</td>\n",
       "      <td>01 TO 03</td>\n",
       "      <td>67.0</td>\n",
       "      <td>New Generation</td>\n",
       "      <td>1980</td>\n",
       "      <td>62 years 05 months</td>\n",
       "      <td>265000.0</td>\n",
       "    </tr>\n",
       "  </tbody>\n",
       "</table>\n",
       "</div>"
      ],
      "text/plain": [
       "     month        town flat_type block        street_name storey_range  \\\n",
       "0  2017-01  ANG MO KIO    2 ROOM   406  ANG MO KIO AVE 10     10 TO 12   \n",
       "1  2017-01  ANG MO KIO    3 ROOM   108   ANG MO KIO AVE 4     01 TO 03   \n",
       "2  2017-01  ANG MO KIO    3 ROOM   602   ANG MO KIO AVE 5     01 TO 03   \n",
       "3  2017-01  ANG MO KIO    3 ROOM   465  ANG MO KIO AVE 10     04 TO 06   \n",
       "4  2017-01  ANG MO KIO    3 ROOM   601   ANG MO KIO AVE 5     01 TO 03   \n",
       "\n",
       "   floor_area_sqm      flat_model  lease_commence_date     remaining_lease  \\\n",
       "0            44.0        Improved                 1979  61 years 04 months   \n",
       "1            67.0  New Generation                 1978  60 years 07 months   \n",
       "2            67.0  New Generation                 1980  62 years 05 months   \n",
       "3            68.0  New Generation                 1980   62 years 01 month   \n",
       "4            67.0  New Generation                 1980  62 years 05 months   \n",
       "\n",
       "   resale_price  \n",
       "0      232000.0  \n",
       "1      250000.0  \n",
       "2      262000.0  \n",
       "3      265000.0  \n",
       "4      265000.0  "
      ]
     },
     "execution_count": 19,
     "metadata": {},
     "output_type": "execute_result"
    }
   ],
   "source": [
    "hdb_data.head()"
   ]
  },
  {
   "cell_type": "markdown",
   "metadata": {},
   "source": [
    "#### Now we will be making a new column for price per square meter (sqm) to eliminate the effect of size of the house on the price. \n",
    "#### Then we will find the average price per sqm for each town"
   ]
  },
  {
   "cell_type": "code",
   "execution_count": 20,
   "metadata": {},
   "outputs": [
    {
     "data": {
      "text/html": [
       "<div>\n",
       "<style scoped>\n",
       "    .dataframe tbody tr th:only-of-type {\n",
       "        vertical-align: middle;\n",
       "    }\n",
       "\n",
       "    .dataframe tbody tr th {\n",
       "        vertical-align: top;\n",
       "    }\n",
       "\n",
       "    .dataframe thead th {\n",
       "        text-align: right;\n",
       "    }\n",
       "</style>\n",
       "<table border=\"1\" class=\"dataframe\">\n",
       "  <thead>\n",
       "    <tr style=\"text-align: right;\">\n",
       "      <th></th>\n",
       "      <th>price_per_sqm</th>\n",
       "    </tr>\n",
       "    <tr>\n",
       "      <th>town</th>\n",
       "      <th></th>\n",
       "    </tr>\n",
       "  </thead>\n",
       "  <tbody>\n",
       "    <tr>\n",
       "      <td>ANG MO KIO</td>\n",
       "      <td>4713.429370</td>\n",
       "    </tr>\n",
       "    <tr>\n",
       "      <td>BEDOK</td>\n",
       "      <td>4540.308707</td>\n",
       "    </tr>\n",
       "    <tr>\n",
       "      <td>BISHAN</td>\n",
       "      <td>5922.249315</td>\n",
       "    </tr>\n",
       "    <tr>\n",
       "      <td>BUKIT BATOK</td>\n",
       "      <td>3960.533756</td>\n",
       "    </tr>\n",
       "    <tr>\n",
       "      <td>BUKIT MERAH</td>\n",
       "      <td>6383.752381</td>\n",
       "    </tr>\n",
       "    <tr>\n",
       "      <td>BUKIT PANJANG</td>\n",
       "      <td>4145.226581</td>\n",
       "    </tr>\n",
       "    <tr>\n",
       "      <td>BUKIT TIMAH</td>\n",
       "      <td>6422.787127</td>\n",
       "    </tr>\n",
       "    <tr>\n",
       "      <td>CENTRAL AREA</td>\n",
       "      <td>7399.124451</td>\n",
       "    </tr>\n",
       "    <tr>\n",
       "      <td>CHOA CHU KANG</td>\n",
       "      <td>3486.095791</td>\n",
       "    </tr>\n",
       "    <tr>\n",
       "      <td>CLEMENTI</td>\n",
       "      <td>5380.854539</td>\n",
       "    </tr>\n",
       "    <tr>\n",
       "      <td>GEYLANG</td>\n",
       "      <td>5025.816892</td>\n",
       "    </tr>\n",
       "    <tr>\n",
       "      <td>HOUGANG</td>\n",
       "      <td>4191.057772</td>\n",
       "    </tr>\n",
       "    <tr>\n",
       "      <td>JURONG EAST</td>\n",
       "      <td>4250.226961</td>\n",
       "    </tr>\n",
       "    <tr>\n",
       "      <td>JURONG WEST</td>\n",
       "      <td>3819.866759</td>\n",
       "    </tr>\n",
       "    <tr>\n",
       "      <td>KALLANG/WHAMPOA</td>\n",
       "      <td>5590.958774</td>\n",
       "    </tr>\n",
       "    <tr>\n",
       "      <td>MARINE PARADE</td>\n",
       "      <td>5952.319742</td>\n",
       "    </tr>\n",
       "    <tr>\n",
       "      <td>PASIR RIS</td>\n",
       "      <td>4043.755166</td>\n",
       "    </tr>\n",
       "    <tr>\n",
       "      <td>PUNGGOL</td>\n",
       "      <td>4718.444721</td>\n",
       "    </tr>\n",
       "    <tr>\n",
       "      <td>QUEENSTOWN</td>\n",
       "      <td>6523.813947</td>\n",
       "    </tr>\n",
       "    <tr>\n",
       "      <td>SEMBAWANG</td>\n",
       "      <td>3697.967310</td>\n",
       "    </tr>\n",
       "    <tr>\n",
       "      <td>SENGKANG</td>\n",
       "      <td>4415.934224</td>\n",
       "    </tr>\n",
       "    <tr>\n",
       "      <td>SERANGOON</td>\n",
       "      <td>4783.515005</td>\n",
       "    </tr>\n",
       "    <tr>\n",
       "      <td>TAMPINES</td>\n",
       "      <td>4529.040577</td>\n",
       "    </tr>\n",
       "    <tr>\n",
       "      <td>TOA PAYOH</td>\n",
       "      <td>5422.137635</td>\n",
       "    </tr>\n",
       "    <tr>\n",
       "      <td>WOODLANDS</td>\n",
       "      <td>3564.243533</td>\n",
       "    </tr>\n",
       "    <tr>\n",
       "      <td>YISHUN</td>\n",
       "      <td>3913.065019</td>\n",
       "    </tr>\n",
       "  </tbody>\n",
       "</table>\n",
       "</div>"
      ],
      "text/plain": [
       "                 price_per_sqm\n",
       "town                          \n",
       "ANG MO KIO         4713.429370\n",
       "BEDOK              4540.308707\n",
       "BISHAN             5922.249315\n",
       "BUKIT BATOK        3960.533756\n",
       "BUKIT MERAH        6383.752381\n",
       "BUKIT PANJANG      4145.226581\n",
       "BUKIT TIMAH        6422.787127\n",
       "CENTRAL AREA       7399.124451\n",
       "CHOA CHU KANG      3486.095791\n",
       "CLEMENTI           5380.854539\n",
       "GEYLANG            5025.816892\n",
       "HOUGANG            4191.057772\n",
       "JURONG EAST        4250.226961\n",
       "JURONG WEST        3819.866759\n",
       "KALLANG/WHAMPOA    5590.958774\n",
       "MARINE PARADE      5952.319742\n",
       "PASIR RIS          4043.755166\n",
       "PUNGGOL            4718.444721\n",
       "QUEENSTOWN         6523.813947\n",
       "SEMBAWANG          3697.967310\n",
       "SENGKANG           4415.934224\n",
       "SERANGOON          4783.515005\n",
       "TAMPINES           4529.040577\n",
       "TOA PAYOH          5422.137635\n",
       "WOODLANDS          3564.243533\n",
       "YISHUN             3913.065019"
      ]
     },
     "execution_count": 20,
     "metadata": {},
     "output_type": "execute_result"
    }
   ],
   "source": [
    "hdb_data[\"price_per_sqm\"] = hdb_data[\"resale_price\"]/ hdb_data[\"floor_area_sqm\"] \n",
    "price_sqm_town_df = hdb_data[[\"town\", \"price_per_sqm\"]]\n",
    "price_sqm_town_df\n",
    "\n",
    "ave_price_sqm_town = price_sqm_town_df.groupby(\"town\").mean()\n",
    "\n",
    "ave_price_sqm_town.head()\n",
    "ave_price_sqm_town"
   ]
  },
  {
   "cell_type": "markdown",
   "metadata": {},
   "source": [
    "#### We will now find the numer of houses sold in each town from 2017-May 2020"
   ]
  },
  {
   "cell_type": "code",
   "execution_count": 21,
   "metadata": {},
   "outputs": [
    {
     "data": {
      "text/html": [
       "<div>\n",
       "<style scoped>\n",
       "    .dataframe tbody tr th:only-of-type {\n",
       "        vertical-align: middle;\n",
       "    }\n",
       "\n",
       "    .dataframe tbody tr th {\n",
       "        vertical-align: top;\n",
       "    }\n",
       "\n",
       "    .dataframe thead th {\n",
       "        text-align: right;\n",
       "    }\n",
       "</style>\n",
       "<table border=\"1\" class=\"dataframe\">\n",
       "  <thead>\n",
       "    <tr style=\"text-align: right;\">\n",
       "      <th></th>\n",
       "      <th>town</th>\n",
       "      <th>Number</th>\n",
       "    </tr>\n",
       "  </thead>\n",
       "  <tbody>\n",
       "    <tr>\n",
       "      <td>0</td>\n",
       "      <td>ANG MO KIO</td>\n",
       "      <td>3154</td>\n",
       "    </tr>\n",
       "    <tr>\n",
       "      <td>1</td>\n",
       "      <td>BEDOK</td>\n",
       "      <td>3732</td>\n",
       "    </tr>\n",
       "    <tr>\n",
       "      <td>2</td>\n",
       "      <td>BISHAN</td>\n",
       "      <td>1375</td>\n",
       "    </tr>\n",
       "    <tr>\n",
       "      <td>3</td>\n",
       "      <td>BUKIT BATOK</td>\n",
       "      <td>2627</td>\n",
       "    </tr>\n",
       "    <tr>\n",
       "      <td>4</td>\n",
       "      <td>BUKIT MERAH</td>\n",
       "      <td>2774</td>\n",
       "    </tr>\n",
       "  </tbody>\n",
       "</table>\n",
       "</div>"
      ],
      "text/plain": [
       "          town  Number\n",
       "0   ANG MO KIO    3154\n",
       "1        BEDOK    3732\n",
       "2       BISHAN    1375\n",
       "3  BUKIT BATOK    2627\n",
       "4  BUKIT MERAH    2774"
      ]
     },
     "execution_count": 21,
     "metadata": {},
     "output_type": "execute_result"
    }
   ],
   "source": [
    "num_per_town = pd.DataFrame(hdb_data.groupby(\"town\").size())\n",
    "num_per_town=num_per_town.reset_index()\n",
    "num_per_town = num_per_town.rename(columns={0:'Number'})\n",
    "num_per_town.head()"
   ]
  },
  {
   "cell_type": "markdown",
   "metadata": {},
   "source": [
    "#### Now we are appending the latitude and longitude of each town to our main dataframe for later analysis"
   ]
  },
  {
   "cell_type": "code",
   "execution_count": 22,
   "metadata": {},
   "outputs": [],
   "source": [
    "\n",
    "latitudes_list = [1.3691, 1.3236, 1.3526, 1.3590, 1.2819, 1.3774, 1.3294, 1.2789, 1.3840, 1.3162,\n",
    "                 1.3201, 1.3612, 1.3329, 1.3404, 1.3100, 1.3020, 1.3721, 1.3984,  1.2942, \n",
    "                 1.4491, 1.3868, 1.3554, 1.3496, 1.3343, 1.4382, 1.4304]\n",
    "longitudes_list = [103.8454, 103.9273, 103.8352, 103.7637, 103.8239,103.7719, 103.8021,  103.8536,\n",
    "                  103.7470, 103.7649, 103.8918, 103.8863, 103.7436, 103.7090, 103.8651, 103.8971,\n",
    "                   103.9474, 103.9072, 103.7861, 103.8185, 103.8914, 103.8679, 103.9568, \n",
    "                  103.8563, 103.7890, 103.8354 ]\n",
    "\n",
    "latitudes_df = pd.DataFrame(latitudes_list)\n",
    "latitudes_df = latitudes_df.rename(columns={0:'Latitude'})\n",
    "\n",
    "longitudes_df = pd.DataFrame(longitudes_list)\n",
    "longitudes_df = longitudes_df.rename(columns={0:\"Longitude\"})\n",
    "\n",
    "location_num = pd.concat([num_per_town, latitudes_df, longitudes_df], axis=1)\n",
    "\n"
   ]
  },
  {
   "cell_type": "markdown",
   "metadata": {},
   "source": [
    "#### Now we will classify the towns into regions (N,S,E,W, Central) and encode them into integers (1,2,3,4,5)"
   ]
  },
  {
   "cell_type": "code",
   "execution_count": 23,
   "metadata": {},
   "outputs": [],
   "source": [
    "\n",
    "def area_encode(x):\n",
    "    if x == 'ANG MO KIO':\n",
    "        return 3\n",
    "    elif x ==  'BEDOK':\n",
    "        return 3\n",
    "    elif x == 'BISHAN':\n",
    "        return 5\n",
    "    elif x ==  'BUKIT BATOK':\n",
    "        return 4\n",
    "    elif x == 'BUKIT MERAH':\n",
    "        return 5\n",
    "    elif x ==  'BUKIT PANJANG':\n",
    "        return 4\n",
    "    elif x == 'BUKIT TIMAH':\n",
    "        return 4\n",
    "    elif x ==  'CENTRAL AREA':\n",
    "        return 5\n",
    "    elif x == 'CHOA CHU KANG':\n",
    "        return 1\n",
    "    elif x ==  'CLEMENTI':\n",
    "        return 4\n",
    "    elif x == 'GEYLANG':\n",
    "        return 2\n",
    "    elif x ==  'HOUGANG':\n",
    "        return 1\n",
    "    elif x == 'JURONG EAST':\n",
    "        return 4\n",
    "    elif x ==  'JURONG WEST':\n",
    "        return 4\n",
    "    elif x == 'KALLANG/WHAMPOA':\n",
    "        return 5\n",
    "    elif x == 'MARINE PARADE':\n",
    "        return 2\n",
    "    elif x ==  'PASIR RIS':\n",
    "        return 3\n",
    "    elif x == 'PUNGGOL':\n",
    "        return 1\n",
    "    elif x ==  'QUEENSTOWN':\n",
    "        return 4\n",
    "    elif x == 'SEMBAWANG':\n",
    "        return 1\n",
    "    elif x == 'SENGKANG':\n",
    "        return 1\n",
    "    elif x == 'SERANGOON':\n",
    "        return 3\n",
    "    elif x == 'TAMPINES':\n",
    "        return 3\n",
    "    elif x == 'TOA PAYOH':\n",
    "        return 5\n",
    "    elif x == 'WOODLANDS':\n",
    "        return 1\n",
    "    elif x == 'YISHUN':\n",
    "        return 1 \n",
    "    \n",
    "hdb_data[\"area_int\"] = hdb_data[\"town\"].apply(area_encode)"
   ]
  },
  {
   "cell_type": "markdown",
   "metadata": {},
   "source": [
    "#### Now we will encode the \"flat_type\" strings as integers from 1 to 7\n"
   ]
  },
  {
   "cell_type": "code",
   "execution_count": 24,
   "metadata": {},
   "outputs": [],
   "source": [
    "hdb_data.flat_type.unique()#'2 ROOM', '3 ROOM', '4 ROOM', '5 ROOM', 'EXECUTIVE', '1 ROOM',\n",
    "       #'MULTI-GENERATION'\n",
    "    \n",
    "def flat_encode(x):\n",
    "    if x == '1 ROOM':\n",
    "        return 1\n",
    "    elif x == '2 ROOM':\n",
    "        return 2\n",
    "    elif x== '3 ROOM':\n",
    "        return 3\n",
    "    elif x == '4 ROOM':\n",
    "        return 4\n",
    "    elif x == '5 ROOM':\n",
    "        return 5\n",
    "    elif x == 'EXECUTIVE':\n",
    "        return 6\n",
    "    elif x == 'MULTI-GENERATION':\n",
    "        return 7\n",
    "    \n",
    "hdb_data[\"flat_type_int\"] = hdb_data[\"flat_type\"].apply(flat_encode)\n"
   ]
  },
  {
   "cell_type": "markdown",
   "metadata": {},
   "source": [
    "## Part 2: Data Visualization "
   ]
  },
  {
   "cell_type": "markdown",
   "metadata": {},
   "source": [
    "### A. Visualization of number of flats sold per town, and average price_per_sqm per town depicted by the colour"
   ]
  },
  {
   "cell_type": "code",
   "execution_count": 25,
   "metadata": {
    "scrolled": true
   },
   "outputs": [
    {
     "data": {
      "image/png": "[encoded data removed]",
      "text/plain": [
       "<Figure size 864x432 with 2 Axes>"
      ]
     },
     "metadata": {
      "needs_background": "light"
     },
     "output_type": "display_data"
    }
   ],
   "source": [
    "plt.figure(figsize=(12, 6))\n",
    "plt.title(\"No. flats sold per town from 2017 to present\")\n",
    "plt.xlabel(\"Town)\")\n",
    "plt.ylabel(\"Number of flats sold\")\n",
    "plt.scatter(num_per_town.town, num_per_town.Number, c=ave_price_sqm_town.price_per_sqm, cmap=\"magma\", alpha=0.7)\n",
    "plt.colorbar(label=\"price per sqm\")\n",
    "plt.xticks(rotation=65)\n",
    "plt.grid(True)\n",
    "plt.show()\n"
   ]
  },
  {
   "cell_type": "markdown",
   "metadata": {},
   "source": [
    "### B. Visualization of number of flats sold (from 2017-May 2020) per area, represented on a map where a bigger and darker red circle represents a higher number of flats"
   ]
  },
  {
   "cell_type": "code",
   "execution_count": 26,
   "metadata": {},
   "outputs": [
    {
     "data": {
      "text/html": [
       "<iframe src=\"data:text/html;base64,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\" width=\"100%\" height=\"480\"></iframe>"
      ],
      "text/plain": [
       "<IPython.core.display.HTML object>"
      ]
     },
     "execution_count": 26,
     "metadata": {},
     "output_type": "execute_result"
    }
   ],
   "source": [
    "from collections import Counter\n",
    "\n",
    "plt.figure(figsize=(16, 8))\n",
    "plt.scatter(location_num.Longitude, location_num.Latitude, c=location_num.Number, s=location_num.Number, alpha=0.5, cmap='Reds')\n",
    "mplleaflet.display()"
   ]
  },
  {
   "cell_type": "markdown",
   "metadata": {},
   "source": [
    "### C. Visualization of price per sqm of different flat types, with the colour representing the region\n",
    "#### Flat types are encoded as such: 1 = 1-room flat; 2 = 2-room flat; 3 = 3-room flat; 4 = 4-room flat; 5 = 5-room flat; 6 = multi-generation; 6 = executive\n",
    "#### Region is encoded as such: 1 = North, 2 = South; 3 = East; 4 = West; 5 = Central\n",
    "#### The colours go from yellow (1) to red (5)"
   ]
  },
  {
   "cell_type": "code",
   "execution_count": 27,
   "metadata": {},
   "outputs": [
    {
     "data": {
      "image/png": "[encoded data removed]",
      "text/plain": [
       "<Figure size 432x288 with 1 Axes>"
      ]
     },
     "metadata": {
      "needs_background": "light"
     },
     "output_type": "display_data"
    }
   ],
   "source": [
    "### more data visualizations\n",
    "\n",
    "#### flat type and price; colour represents region\n",
    "#### red is 0 (north) --> yellow is 5 (central)\n",
    "plt.scatter(x=hdb_data.flat_type_int, \n",
    "               y=hdb_data.price_per_sqm, c=hdb_data.area_int, cmap='autumn'\n",
    "              ,marker=\"o\", s=90)\n",
    "plt.xlabel(\"Flat type encoded\")\n",
    "plt.ylabel(\"Price per sqm ($)\")\n",
    "plt.show()\n"
   ]
  },
  {
   "cell_type": "code",
   "execution_count": 28,
   "metadata": {},
   "outputs": [
    {
     "data": {
      "text/html": [
       "<div>\n",
       "<style scoped>\n",
       "    .dataframe tbody tr th:only-of-type {\n",
       "        vertical-align: middle;\n",
       "    }\n",
       "\n",
       "    .dataframe tbody tr th {\n",
       "        vertical-align: top;\n",
       "    }\n",
       "\n",
       "    .dataframe thead th {\n",
       "        text-align: right;\n",
       "    }\n",
       "</style>\n",
       "<table border=\"1\" class=\"dataframe\">\n",
       "  <thead>\n",
       "    <tr style=\"text-align: right;\">\n",
       "      <th></th>\n",
       "      <th>month</th>\n",
       "      <th>town</th>\n",
       "      <th>flat_type</th>\n",
       "      <th>block</th>\n",
       "      <th>street_name</th>\n",
       "      <th>storey_range</th>\n",
       "      <th>floor_area_sqm</th>\n",
       "      <th>flat_model</th>\n",
       "      <th>lease_commence_date</th>\n",
       "      <th>remaining_lease</th>\n",
       "      <th>resale_price</th>\n",
       "      <th>price_per_sqm</th>\n",
       "      <th>area_int</th>\n",
       "      <th>flat_type_int</th>\n",
       "    </tr>\n",
       "  </thead>\n",
       "  <tbody>\n",
       "    <tr>\n",
       "      <td>0</td>\n",
       "      <td>2017-01</td>\n",
       "      <td>ANG MO KIO</td>\n",
       "      <td>2 ROOM</td>\n",
       "      <td>406</td>\n",
       "      <td>ANG MO KIO AVE 10</td>\n",
       "      <td>10 TO 12</td>\n",
       "      <td>44.0</td>\n",
       "      <td>Improved</td>\n",
       "      <td>1979</td>\n",
       "      <td>61 years 04 months</td>\n",
       "      <td>232000.0</td>\n",
       "      <td>5272.727273</td>\n",
       "      <td>3</td>\n",
       "      <td>2</td>\n",
       "    </tr>\n",
       "    <tr>\n",
       "      <td>1</td>\n",
       "      <td>2017-01</td>\n",
       "      <td>ANG MO KIO</td>\n",
       "      <td>3 ROOM</td>\n",
       "      <td>108</td>\n",
       "      <td>ANG MO KIO AVE 4</td>\n",
       "      <td>01 TO 03</td>\n",
       "      <td>67.0</td>\n",
       "      <td>New Generation</td>\n",
       "      <td>1978</td>\n",
       "      <td>60 years 07 months</td>\n",
       "      <td>250000.0</td>\n",
       "      <td>3731.343284</td>\n",
       "      <td>3</td>\n",
       "      <td>3</td>\n",
       "    </tr>\n",
       "    <tr>\n",
       "      <td>2</td>\n",
       "      <td>2017-01</td>\n",
       "      <td>ANG MO KIO</td>\n",
       "      <td>3 ROOM</td>\n",
       "      <td>602</td>\n",
       "      <td>ANG MO KIO AVE 5</td>\n",
       "      <td>01 TO 03</td>\n",
       "      <td>67.0</td>\n",
       "      <td>New Generation</td>\n",
       "      <td>1980</td>\n",
       "      <td>62 years 05 months</td>\n",
       "      <td>262000.0</td>\n",
       "      <td>3910.447761</td>\n",
       "      <td>3</td>\n",
       "      <td>3</td>\n",
       "    </tr>\n",
       "    <tr>\n",
       "      <td>3</td>\n",
       "      <td>2017-01</td>\n",
       "      <td>ANG MO KIO</td>\n",
       "      <td>3 ROOM</td>\n",
       "      <td>465</td>\n",
       "      <td>ANG MO KIO AVE 10</td>\n",
       "      <td>04 TO 06</td>\n",
       "      <td>68.0</td>\n",
       "      <td>New Generation</td>\n",
       "      <td>1980</td>\n",
       "      <td>62 years 01 month</td>\n",
       "      <td>265000.0</td>\n",
       "      <td>3897.058824</td>\n",
       "      <td>3</td>\n",
       "      <td>3</td>\n",
       "    </tr>\n",
       "    <tr>\n",
       "      <td>4</td>\n",
       "      <td>2017-01</td>\n",
       "      <td>ANG MO KIO</td>\n",
       "      <td>3 ROOM</td>\n",
       "      <td>601</td>\n",
       "      <td>ANG MO KIO AVE 5</td>\n",
       "      <td>01 TO 03</td>\n",
       "      <td>67.0</td>\n",
       "      <td>New Generation</td>\n",
       "      <td>1980</td>\n",
       "      <td>62 years 05 months</td>\n",
       "      <td>265000.0</td>\n",
       "      <td>3955.223881</td>\n",
       "      <td>3</td>\n",
       "      <td>3</td>\n",
       "    </tr>\n",
       "  </tbody>\n",
       "</table>\n",
       "</div>"
      ],
      "text/plain": [
       "     month        town flat_type block        street_name storey_range  \\\n",
       "0  2017-01  ANG MO KIO    2 ROOM   406  ANG MO KIO AVE 10     10 TO 12   \n",
       "1  2017-01  ANG MO KIO    3 ROOM   108   ANG MO KIO AVE 4     01 TO 03   \n",
       "2  2017-01  ANG MO KIO    3 ROOM   602   ANG MO KIO AVE 5     01 TO 03   \n",
       "3  2017-01  ANG MO KIO    3 ROOM   465  ANG MO KIO AVE 10     04 TO 06   \n",
       "4  2017-01  ANG MO KIO    3 ROOM   601   ANG MO KIO AVE 5     01 TO 03   \n",
       "\n",
       "   floor_area_sqm      flat_model  lease_commence_date     remaining_lease  \\\n",
       "0            44.0        Improved                 1979  61 years 04 months   \n",
       "1            67.0  New Generation                 1978  60 years 07 months   \n",
       "2            67.0  New Generation                 1980  62 years 05 months   \n",
       "3            68.0  New Generation                 1980   62 years 01 month   \n",
       "4            67.0  New Generation                 1980  62 years 05 months   \n",
       "\n",
       "   resale_price  price_per_sqm  area_int  flat_type_int  \n",
       "0      232000.0    5272.727273         3              2  \n",
       "1      250000.0    3731.343284         3              3  \n",
       "2      262000.0    3910.447761         3              3  \n",
       "3      265000.0    3897.058824         3              3  \n",
       "4      265000.0    3955.223881         3              3  "
      ]
     },
     "execution_count": 28,
     "metadata": {},
     "output_type": "execute_result"
    }
   ],
   "source": [
    "hdb_data.head()\n"
   ]
  },
  {
   "cell_type": "markdown",
   "metadata": {},
   "source": [
    "## Part 3: Further data wrangling for machine learning"
   ]
  },
  {
   "cell_type": "markdown",
   "metadata": {},
   "source": [
    "#### We will now extract the first 2 positions of the \"remaining lease\" string and converting it to integer form"
   ]
  },
  {
   "cell_type": "code",
   "execution_count": 29,
   "metadata": {},
   "outputs": [
    {
     "data": {
      "text/html": [
       "<div>\n",
       "<style scoped>\n",
       "    .dataframe tbody tr th:only-of-type {\n",
       "        vertical-align: middle;\n",
       "    }\n",
       "\n",
       "    .dataframe tbody tr th {\n",
       "        vertical-align: top;\n",
       "    }\n",
       "\n",
       "    .dataframe thead th {\n",
       "        text-align: right;\n",
       "    }\n",
       "</style>\n",
       "<table border=\"1\" class=\"dataframe\">\n",
       "  <thead>\n",
       "    <tr style=\"text-align: right;\">\n",
       "      <th></th>\n",
       "      <th>month</th>\n",
       "      <th>town</th>\n",
       "      <th>flat_type</th>\n",
       "      <th>block</th>\n",
       "      <th>street_name</th>\n",
       "      <th>storey_range</th>\n",
       "      <th>floor_area_sqm</th>\n",
       "      <th>flat_model</th>\n",
       "      <th>lease_commence_date</th>\n",
       "      <th>remaining_lease</th>\n",
       "      <th>resale_price</th>\n",
       "      <th>price_per_sqm</th>\n",
       "      <th>area_int</th>\n",
       "      <th>flat_type_int</th>\n",
       "      <th>remaining_lease_int</th>\n",
       "    </tr>\n",
       "  </thead>\n",
       "  <tbody>\n",
       "    <tr>\n",
       "      <td>0</td>\n",
       "      <td>2017-01</td>\n",
       "      <td>ANG MO KIO</td>\n",
       "      <td>2 ROOM</td>\n",
       "      <td>406</td>\n",
       "      <td>ANG MO KIO AVE 10</td>\n",
       "      <td>10 TO 12</td>\n",
       "      <td>44.0</td>\n",
       "      <td>Improved</td>\n",
       "      <td>1979</td>\n",
       "      <td>61 years 04 months</td>\n",
       "      <td>232000.0</td>\n",
       "      <td>5272.727273</td>\n",
       "      <td>3</td>\n",
       "      <td>2</td>\n",
       "      <td>61</td>\n",
       "    </tr>\n",
       "    <tr>\n",
       "      <td>1</td>\n",
       "      <td>2017-01</td>\n",
       "      <td>ANG MO KIO</td>\n",
       "      <td>3 ROOM</td>\n",
       "      <td>108</td>\n",
       "      <td>ANG MO KIO AVE 4</td>\n",
       "      <td>01 TO 03</td>\n",
       "      <td>67.0</td>\n",
       "      <td>New Generation</td>\n",
       "      <td>1978</td>\n",
       "      <td>60 years 07 months</td>\n",
       "      <td>250000.0</td>\n",
       "      <td>3731.343284</td>\n",
       "      <td>3</td>\n",
       "      <td>3</td>\n",
       "      <td>60</td>\n",
       "    </tr>\n",
       "    <tr>\n",
       "      <td>2</td>\n",
       "      <td>2017-01</td>\n",
       "      <td>ANG MO KIO</td>\n",
       "      <td>3 ROOM</td>\n",
       "      <td>602</td>\n",
       "      <td>ANG MO KIO AVE 5</td>\n",
       "      <td>01 TO 03</td>\n",
       "      <td>67.0</td>\n",
       "      <td>New Generation</td>\n",
       "      <td>1980</td>\n",
       "      <td>62 years 05 months</td>\n",
       "      <td>262000.0</td>\n",
       "      <td>3910.447761</td>\n",
       "      <td>3</td>\n",
       "      <td>3</td>\n",
       "      <td>62</td>\n",
       "    </tr>\n",
       "    <tr>\n",
       "      <td>3</td>\n",
       "      <td>2017-01</td>\n",
       "      <td>ANG MO KIO</td>\n",
       "      <td>3 ROOM</td>\n",
       "      <td>465</td>\n",
       "      <td>ANG MO KIO AVE 10</td>\n",
       "      <td>04 TO 06</td>\n",
       "      <td>68.0</td>\n",
       "      <td>New Generation</td>\n",
       "      <td>1980</td>\n",
       "      <td>62 years 01 month</td>\n",
       "      <td>265000.0</td>\n",
       "      <td>3897.058824</td>\n",
       "      <td>3</td>\n",
       "      <td>3</td>\n",
       "      <td>62</td>\n",
       "    </tr>\n",
       "    <tr>\n",
       "      <td>4</td>\n",
       "      <td>2017-01</td>\n",
       "      <td>ANG MO KIO</td>\n",
       "      <td>3 ROOM</td>\n",
       "      <td>601</td>\n",
       "      <td>ANG MO KIO AVE 5</td>\n",
       "      <td>01 TO 03</td>\n",
       "      <td>67.0</td>\n",
       "      <td>New Generation</td>\n",
       "      <td>1980</td>\n",
       "      <td>62 years 05 months</td>\n",
       "      <td>265000.0</td>\n",
       "      <td>3955.223881</td>\n",
       "      <td>3</td>\n",
       "      <td>3</td>\n",
       "      <td>62</td>\n",
       "    </tr>\n",
       "  </tbody>\n",
       "</table>\n",
       "</div>"
      ],
      "text/plain": [
       "     month        town flat_type block        street_name storey_range  \\\n",
       "0  2017-01  ANG MO KIO    2 ROOM   406  ANG MO KIO AVE 10     10 TO 12   \n",
       "1  2017-01  ANG MO KIO    3 ROOM   108   ANG MO KIO AVE 4     01 TO 03   \n",
       "2  2017-01  ANG MO KIO    3 ROOM   602   ANG MO KIO AVE 5     01 TO 03   \n",
       "3  2017-01  ANG MO KIO    3 ROOM   465  ANG MO KIO AVE 10     04 TO 06   \n",
       "4  2017-01  ANG MO KIO    3 ROOM   601   ANG MO KIO AVE 5     01 TO 03   \n",
       "\n",
       "   floor_area_sqm      flat_model  lease_commence_date     remaining_lease  \\\n",
       "0            44.0        Improved                 1979  61 years 04 months   \n",
       "1            67.0  New Generation                 1978  60 years 07 months   \n",
       "2            67.0  New Generation                 1980  62 years 05 months   \n",
       "3            68.0  New Generation                 1980   62 years 01 month   \n",
       "4            67.0  New Generation                 1980  62 years 05 months   \n",
       "\n",
       "   resale_price  price_per_sqm  area_int  flat_type_int  remaining_lease_int  \n",
       "0      232000.0    5272.727273         3              2                   61  \n",
       "1      250000.0    3731.343284         3              3                   60  \n",
       "2      262000.0    3910.447761         3              3                   62  \n",
       "3      265000.0    3897.058824         3              3                   62  \n",
       "4      265000.0    3955.223881         3              3                   62  "
      ]
     },
     "execution_count": 29,
     "metadata": {},
     "output_type": "execute_result"
    }
   ],
   "source": [
    "def convert_date(text):\n",
    "    return int(text[0:2])\n",
    "\n",
    "hdb_data[\"remaining_lease_int\"] = hdb_data[\"remaining_lease\"].apply(convert_date)\n",
    "hdb_data.head()"
   ]
  },
  {
   "cell_type": "markdown",
   "metadata": {},
   "source": [
    "#### Now we take the \"storey_range\" string and convert it to an integer which has the average of the extremes of the range"
   ]
  },
  {
   "cell_type": "code",
   "execution_count": 30,
   "metadata": {},
   "outputs": [
    {
     "data": {
      "text/html": [
       "<div>\n",
       "<style scoped>\n",
       "    .dataframe tbody tr th:only-of-type {\n",
       "        vertical-align: middle;\n",
       "    }\n",
       "\n",
       "    .dataframe tbody tr th {\n",
       "        vertical-align: top;\n",
       "    }\n",
       "\n",
       "    .dataframe thead th {\n",
       "        text-align: right;\n",
       "    }\n",
       "</style>\n",
       "<table border=\"1\" class=\"dataframe\">\n",
       "  <thead>\n",
       "    <tr style=\"text-align: right;\">\n",
       "      <th></th>\n",
       "      <th>month</th>\n",
       "      <th>town</th>\n",
       "      <th>flat_type</th>\n",
       "      <th>block</th>\n",
       "      <th>street_name</th>\n",
       "      <th>storey_range</th>\n",
       "      <th>floor_area_sqm</th>\n",
       "      <th>flat_model</th>\n",
       "      <th>lease_commence_date</th>\n",
       "      <th>remaining_lease</th>\n",
       "      <th>resale_price</th>\n",
       "      <th>price_per_sqm</th>\n",
       "      <th>area_int</th>\n",
       "      <th>flat_type_int</th>\n",
       "      <th>remaining_lease_int</th>\n",
       "      <th>storey_ave</th>\n",
       "    </tr>\n",
       "  </thead>\n",
       "  <tbody>\n",
       "    <tr>\n",
       "      <td>0</td>\n",
       "      <td>2017-01</td>\n",
       "      <td>ANG MO KIO</td>\n",
       "      <td>2 ROOM</td>\n",
       "      <td>406</td>\n",
       "      <td>ANG MO KIO AVE 10</td>\n",
       "      <td>10 TO 12</td>\n",
       "      <td>44.0</td>\n",
       "      <td>Improved</td>\n",
       "      <td>1979</td>\n",
       "      <td>61 years 04 months</td>\n",
       "      <td>232000.0</td>\n",
       "      <td>5272.727273</td>\n",
       "      <td>3</td>\n",
       "      <td>2</td>\n",
       "      <td>61</td>\n",
       "      <td>11</td>\n",
       "    </tr>\n",
       "    <tr>\n",
       "      <td>1</td>\n",
       "      <td>2017-01</td>\n",
       "      <td>ANG MO KIO</td>\n",
       "      <td>3 ROOM</td>\n",
       "      <td>108</td>\n",
       "      <td>ANG MO KIO AVE 4</td>\n",
       "      <td>01 TO 03</td>\n",
       "      <td>67.0</td>\n",
       "      <td>New Generation</td>\n",
       "      <td>1978</td>\n",
       "      <td>60 years 07 months</td>\n",
       "      <td>250000.0</td>\n",
       "      <td>3731.343284</td>\n",
       "      <td>3</td>\n",
       "      <td>3</td>\n",
       "      <td>60</td>\n",
       "      <td>2</td>\n",
       "    </tr>\n",
       "    <tr>\n",
       "      <td>2</td>\n",
       "      <td>2017-01</td>\n",
       "      <td>ANG MO KIO</td>\n",
       "      <td>3 ROOM</td>\n",
       "      <td>602</td>\n",
       "      <td>ANG MO KIO AVE 5</td>\n",
       "      <td>01 TO 03</td>\n",
       "      <td>67.0</td>\n",
       "      <td>New Generation</td>\n",
       "      <td>1980</td>\n",
       "      <td>62 years 05 months</td>\n",
       "      <td>262000.0</td>\n",
       "      <td>3910.447761</td>\n",
       "      <td>3</td>\n",
       "      <td>3</td>\n",
       "      <td>62</td>\n",
       "      <td>2</td>\n",
       "    </tr>\n",
       "    <tr>\n",
       "      <td>3</td>\n",
       "      <td>2017-01</td>\n",
       "      <td>ANG MO KIO</td>\n",
       "      <td>3 ROOM</td>\n",
       "      <td>465</td>\n",
       "      <td>ANG MO KIO AVE 10</td>\n",
       "      <td>04 TO 06</td>\n",
       "      <td>68.0</td>\n",
       "      <td>New Generation</td>\n",
       "      <td>1980</td>\n",
       "      <td>62 years 01 month</td>\n",
       "      <td>265000.0</td>\n",
       "      <td>3897.058824</td>\n",
       "      <td>3</td>\n",
       "      <td>3</td>\n",
       "      <td>62</td>\n",
       "      <td>5</td>\n",
       "    </tr>\n",
       "    <tr>\n",
       "      <td>4</td>\n",
       "      <td>2017-01</td>\n",
       "      <td>ANG MO KIO</td>\n",
       "      <td>3 ROOM</td>\n",
       "      <td>601</td>\n",
       "      <td>ANG MO KIO AVE 5</td>\n",
       "      <td>01 TO 03</td>\n",
       "      <td>67.0</td>\n",
       "      <td>New Generation</td>\n",
       "      <td>1980</td>\n",
       "      <td>62 years 05 months</td>\n",
       "      <td>265000.0</td>\n",
       "      <td>3955.223881</td>\n",
       "      <td>3</td>\n",
       "      <td>3</td>\n",
       "      <td>62</td>\n",
       "      <td>2</td>\n",
       "    </tr>\n",
       "  </tbody>\n",
       "</table>\n",
       "</div>"
      ],
      "text/plain": [
       "     month        town flat_type block        street_name storey_range  \\\n",
       "0  2017-01  ANG MO KIO    2 ROOM   406  ANG MO KIO AVE 10     10 TO 12   \n",
       "1  2017-01  ANG MO KIO    3 ROOM   108   ANG MO KIO AVE 4     01 TO 03   \n",
       "2  2017-01  ANG MO KIO    3 ROOM   602   ANG MO KIO AVE 5     01 TO 03   \n",
       "3  2017-01  ANG MO KIO    3 ROOM   465  ANG MO KIO AVE 10     04 TO 06   \n",
       "4  2017-01  ANG MO KIO    3 ROOM   601   ANG MO KIO AVE 5     01 TO 03   \n",
       "\n",
       "   floor_area_sqm      flat_model  lease_commence_date     remaining_lease  \\\n",
       "0            44.0        Improved                 1979  61 years 04 months   \n",
       "1            67.0  New Generation                 1978  60 years 07 months   \n",
       "2            67.0  New Generation                 1980  62 years 05 months   \n",
       "3            68.0  New Generation                 1980   62 years 01 month   \n",
       "4            67.0  New Generation                 1980  62 years 05 months   \n",
       "\n",
       "   resale_price  price_per_sqm  area_int  flat_type_int  remaining_lease_int  \\\n",
       "0      232000.0    5272.727273         3              2                   61   \n",
       "1      250000.0    3731.343284         3              3                   60   \n",
       "2      262000.0    3910.447761         3              3                   62   \n",
       "3      265000.0    3897.058824         3              3                   62   \n",
       "4      265000.0    3955.223881         3              3                   62   \n",
       "\n",
       "   storey_ave  \n",
       "0          11  \n",
       "1           2  \n",
       "2           2  \n",
       "3           5  \n",
       "4           2  "
      ]
     },
     "execution_count": 30,
     "metadata": {},
     "output_type": "execute_result"
    }
   ],
   "source": [
    "def storey_ave(text):\n",
    "    return int(text[0:2]) + 1\n",
    "hdb_data[\"storey_ave\"] = hdb_data[\"storey_range\"].apply(storey_ave)\n",
    "hdb_data.head()"
   ]
  },
  {
   "cell_type": "markdown",
   "metadata": {},
   "source": [
    "# Part 4: Machine Learning "
   ]
  },
  {
   "cell_type": "markdown",
   "metadata": {},
   "source": [
    "## Part 4A: Linear regression "
   ]
  },
  {
   "cell_type": "markdown",
   "metadata": {},
   "source": [
    "# Univariate Linear Regression: Checking for the most significant predictor of Price per Square Meter\n",
    "\n",
    "There will be a total of 4 univariate linear regressions done to cross check predictors and their impact on the price per square meter."
   ]
  },
  {
   "cell_type": "markdown",
   "metadata": {},
   "source": [
    "\n",
    "# Univariate Linear Regression #1:\n",
    "### Independent Variable (X): Town\n",
    "### Dependent Variable (y): Price Per Square Meter"
   ]
  },
  {
   "cell_type": "code",
   "execution_count": 31,
   "metadata": {},
   "outputs": [
    {
     "name": "stdout",
     "output_type": "stream",
     "text": [
      "[-1.30494731e+14 -1.30494731e+14 -1.30494731e+14 -1.30494731e+14\n",
      " -1.30494731e+14 -1.30494731e+14 -1.30494731e+14 -1.30494731e+14\n",
      " -1.30494731e+14 -1.30494731e+14 -1.30494731e+14 -1.30494731e+14\n",
      " -1.30494731e+14 -1.30494731e+14 -1.30494731e+14 -1.30494731e+14\n",
      " -1.30494731e+14 -1.30494731e+14 -1.30494731e+14 -1.30494731e+14\n",
      " -1.30494731e+14 -1.30494731e+14 -1.30494731e+14 -1.30494731e+14\n",
      " -1.30494731e+14 -1.30494731e+14]\n",
      "130494731486881.39\n",
      "0.47156374790616956\n"
     ]
    }
   ],
   "source": [
    "dep_var1 = hdb_data[\"price_per_sqm\"]\n",
    "ind_var1 = hdb_data[[\"town\"]]\n",
    "\n",
    "# One Hot Encoding for Categorical Variables\n",
    "from sklearn.preprocessing import OneHotEncoder\n",
    "ohe = OneHotEncoder()\n",
    "\n",
    "ind_var1_xformed = ohe.fit_transform(ind_var1).toarray()\n",
    "\n",
    "# Creating train test split with random_state = 42\n",
    "from sklearn.model_selection import train_test_split\n",
    "\n",
    "X_train1, X_test1, y_train1, y_test1 = train_test_split(ind_var1_xformed, dep_var1, train_size = 0.8, test_size = 0.2, random_state = 42)\n",
    "\n",
    "\n",
    "\n",
    "# Training the model\n",
    "from sklearn.linear_model import LinearRegression\n",
    "model = LinearRegression()\n",
    "regression1 = model.fit(X_train1, y_train1)\n",
    "\n",
    "\n",
    "print(regression1.coef_)\n",
    "print(regression1.intercept_)\n",
    "print(regression1.score(X_test1, y_test1))"
   ]
  },
  {
   "cell_type": "markdown",
   "metadata": {},
   "source": [
    "## Visualizing the Predictions of Regression #1"
   ]
  },
  {
   "cell_type": "code",
   "execution_count": 32,
   "metadata": {},
   "outputs": [
    {
     "data": {
      "image/png": "[encoded data removed]",
      "text/plain": [
       "<Figure size 1152x720 with 1 Axes>"
      ]
     },
     "metadata": {
      "needs_background": "light"
     },
     "output_type": "display_data"
    }
   ],
   "source": [
    "# Using Bar Chart\n",
    "y_pred1 = regression1.predict(X_test1)\n",
    "\n",
    "compare_df1 = pd.DataFrame({\"Actual\": y_test1, \"Predicted\": y_pred1})\n",
    "\n",
    "import matplotlib.pyplot as plt\n",
    "\n",
    "truncated_df = compare_df1.head(50)\n",
    "\n",
    "truncated_df.plot(kind = \"bar\", figsize = (16,10))\n",
    "plt.grid(which = \"major\", linestyle = \"-\", linewidth = \"0.5\", color = \"green\")\n",
    "plt.grid(which = \"minor\", linestyle = \"-\", linewidth = \"0.5\", color = \"black\")\n",
    "plt.title(\"Graph comparing Actual vs Predicted results of Regression #1\")\n",
    "plt.ylabel(\"Price per Square Meter\")\n",
    "plt.xlabel(\"Index Number\")\n",
    "plt.show()"
   ]
  },
  {
   "cell_type": "markdown",
   "metadata": {},
   "source": [
    "## Visualizing overall performance metrics of Regression #1"
   ]
  },
  {
   "cell_type": "markdown",
   "metadata": {},
   "source": [
    "### Decoding One Hot Encoded Variables\n"
   ]
  },
  {
   "cell_type": "code",
   "execution_count": 33,
   "metadata": {},
   "outputs": [],
   "source": [
    "# Decoding One Hot Encoded categories\n",
    "town_list = list(hdb_data.loc[:, \"town\"])\n",
    "\n",
    "def remove_dup(dups):\n",
    "    final_list =[]\n",
    "    for x in dups:\n",
    "        if x not in final_list:\n",
    "            final_list.append(x)\n",
    "    return final_list\n",
    "\n",
    "town_list_no_dup = remove_dup(town_list)\n",
    "\n"
   ]
  },
  {
   "cell_type": "code",
   "execution_count": 34,
   "metadata": {
    "scrolled": true
   },
   "outputs": [
    {
     "data": {
      "text/html": [
       "<table class=\"simpletable\">\n",
       "<caption>OLS Regression Results</caption>\n",
       "<tr>\n",
       "  <th>Dep. Variable:</th>      <td>price_per_sqm</td>  <th>  R-squared:         </th>  <td>   0.475</td>  \n",
       "</tr>\n",
       "<tr>\n",
       "  <th>Model:</th>                   <td>OLS</td>       <th>  Adj. R-squared:    </th>  <td>   0.474</td>  \n",
       "</tr>\n",
       "<tr>\n",
       "  <th>Method:</th>             <td>Least Squares</td>  <th>  F-statistic:       </th>  <td>   2026.</td>  \n",
       "</tr>\n",
       "<tr>\n",
       "  <th>Date:</th>             <td>Thu, 02 Jul 2020</td> <th>  Prob (F-statistic):</th>   <td>  0.00</td>   \n",
       "</tr>\n",
       "<tr>\n",
       "  <th>Time:</th>                 <td>21:36:45</td>     <th>  Log-Likelihood:    </th> <td>-4.5955e+05</td>\n",
       "</tr>\n",
       "<tr>\n",
       "  <th>No. Observations:</th>      <td> 56082</td>      <th>  AIC:               </th>  <td>9.191e+05</td> \n",
       "</tr>\n",
       "<tr>\n",
       "  <th>Df Residuals:</th>          <td> 56056</td>      <th>  BIC:               </th>  <td>9.194e+05</td> \n",
       "</tr>\n",
       "<tr>\n",
       "  <th>Df Model:</th>              <td>    25</td>      <th>                     </th>      <td> </td>     \n",
       "</tr>\n",
       "<tr>\n",
       "  <th>Covariance Type:</th>      <td>nonrobust</td>    <th>                     </th>      <td> </td>     \n",
       "</tr>\n",
       "</table>\n",
       "<table class=\"simpletable\">\n",
       "<tr>\n",
       "         <td></td>            <th>coef</th>     <th>std err</th>      <th>t</th>      <th>P>|t|</th>  <th>[0.025</th>    <th>0.975]</th>  \n",
       "</tr>\n",
       "<tr>\n",
       "  <th>ANG MO KIO</th>      <td> 4720.6736</td> <td>   17.508</td> <td>  269.633</td> <td> 0.000</td> <td> 4686.358</td> <td> 4754.989</td>\n",
       "</tr>\n",
       "<tr>\n",
       "  <th>BEDOK</th>           <td> 4538.0278</td> <td>   15.863</td> <td>  286.068</td> <td> 0.000</td> <td> 4506.935</td> <td> 4569.120</td>\n",
       "</tr>\n",
       "<tr>\n",
       "  <th>BISHAN</th>          <td> 5921.1642</td> <td>   26.524</td> <td>  223.240</td> <td> 0.000</td> <td> 5869.177</td> <td> 5973.151</td>\n",
       "</tr>\n",
       "<tr>\n",
       "  <th>BUKIT BATOK</th>     <td> 3955.8345</td> <td>   19.018</td> <td>  208.000</td> <td> 0.000</td> <td> 3918.558</td> <td> 3993.111</td>\n",
       "</tr>\n",
       "<tr>\n",
       "  <th>BUKIT MERAH</th>     <td> 6384.0452</td> <td>   18.421</td> <td>  346.573</td> <td> 0.000</td> <td> 6347.941</td> <td> 6420.149</td>\n",
       "</tr>\n",
       "<tr>\n",
       "  <th>BUKIT PANJANG</th>   <td> 4156.5887</td> <td>   19.118</td> <td>  217.420</td> <td> 0.000</td> <td> 4119.118</td> <td> 4194.060</td>\n",
       "</tr>\n",
       "<tr>\n",
       "  <th>BUKIT TIMAH</th>     <td> 6439.6364</td> <td>   70.828</td> <td>   90.920</td> <td> 0.000</td> <td> 6300.814</td> <td> 6578.459</td>\n",
       "</tr>\n",
       "<tr>\n",
       "  <th>CENTRAL AREA</th>    <td> 7387.6321</td> <td>   40.759</td> <td>  181.250</td> <td> 0.000</td> <td> 7307.744</td> <td> 7467.521</td>\n",
       "</tr>\n",
       "<tr>\n",
       "  <th>CHOA CHU KANG</th>   <td> 3489.9668</td> <td>   18.449</td> <td>  189.168</td> <td> 0.000</td> <td> 3453.806</td> <td> 3526.127</td>\n",
       "</tr>\n",
       "<tr>\n",
       "  <th>CLEMENTI</th>        <td> 5353.2262</td> <td>   25.000</td> <td>  214.125</td> <td> 0.000</td> <td> 5304.225</td> <td> 5402.227</td>\n",
       "</tr>\n",
       "<tr>\n",
       "  <th>GEYLANG</th>         <td> 5044.9701</td> <td>   23.996</td> <td>  210.245</td> <td> 0.000</td> <td> 4997.938</td> <td> 5092.002</td>\n",
       "</tr>\n",
       "<tr>\n",
       "  <th>HOUGANG</th>         <td> 4186.7951</td> <td>   17.285</td> <td>  242.223</td> <td> 0.000</td> <td> 4152.917</td> <td> 4220.674</td>\n",
       "</tr>\n",
       "<tr>\n",
       "  <th>JURONG EAST</th>     <td> 4253.6452</td> <td>   24.720</td> <td>  172.071</td> <td> 0.000</td> <td> 4205.193</td> <td> 4302.097</td>\n",
       "</tr>\n",
       "<tr>\n",
       "  <th>JURONG WEST</th>     <td> 3815.9025</td> <td>   13.435</td> <td>  284.018</td> <td> 0.000</td> <td> 3789.569</td> <td> 3842.236</td>\n",
       "</tr>\n",
       "<tr>\n",
       "  <th>KALLANG/WHAMPOA</th> <td> 5590.9577</td> <td>   21.773</td> <td>  256.780</td> <td> 0.000</td> <td> 5548.282</td> <td> 5633.633</td>\n",
       "</tr>\n",
       "<tr>\n",
       "  <th>MARINE PARADE</th>   <td> 5947.8245</td> <td>   47.653</td> <td>  124.816</td> <td> 0.000</td> <td> 5854.425</td> <td> 6041.225</td>\n",
       "</tr>\n",
       "<tr>\n",
       "  <th>PASIR RIS</th>       <td> 4035.9532</td> <td>   21.713</td> <td>  185.877</td> <td> 0.000</td> <td> 3993.396</td> <td> 4078.511</td>\n",
       "</tr>\n",
       "<tr>\n",
       "  <th>PUNGGOL</th>         <td> 4727.1488</td> <td>   14.853</td> <td>  318.257</td> <td> 0.000</td> <td> 4698.036</td> <td> 4756.261</td>\n",
       "</tr>\n",
       "<tr>\n",
       "  <th>QUEENSTOWN</th>      <td> 6540.8780</td> <td>   22.757</td> <td>  287.417</td> <td> 0.000</td> <td> 6496.273</td> <td> 6585.483</td>\n",
       "</tr>\n",
       "<tr>\n",
       "  <th>SEMBAWANG</th>       <td> 3695.4384</td> <td>   22.590</td> <td>  163.584</td> <td> 0.000</td> <td> 3651.161</td> <td> 3739.716</td>\n",
       "</tr>\n",
       "<tr>\n",
       "  <th>SENGKANG</th>        <td> 4416.0010</td> <td>   13.299</td> <td>  332.067</td> <td> 0.000</td> <td> 4389.936</td> <td> 4442.066</td>\n",
       "</tr>\n",
       "<tr>\n",
       "  <th>SERANGOON</th>       <td> 4786.2957</td> <td>   25.925</td> <td>  184.623</td> <td> 0.000</td> <td> 4735.483</td> <td> 4837.108</td>\n",
       "</tr>\n",
       "<tr>\n",
       "  <th>TAMPINES</th>        <td> 4518.3579</td> <td>   14.634</td> <td>  308.757</td> <td> 0.000</td> <td> 4489.675</td> <td> 4547.041</td>\n",
       "</tr>\n",
       "<tr>\n",
       "  <th>TOA PAYOH</th>       <td> 5432.8334</td> <td>   20.265</td> <td>  268.092</td> <td> 0.000</td> <td> 5393.114</td> <td> 5472.553</td>\n",
       "</tr>\n",
       "<tr>\n",
       "  <th>WOODLANDS</th>       <td> 3562.4601</td> <td>   13.142</td> <td>  271.075</td> <td> 0.000</td> <td> 3536.702</td> <td> 3588.218</td>\n",
       "</tr>\n",
       "<tr>\n",
       "  <th>YISHUN</th>          <td> 3917.6002</td> <td>   13.825</td> <td>  283.380</td> <td> 0.000</td> <td> 3890.504</td> <td> 3944.696</td>\n",
       "</tr>\n",
       "</table>\n",
       "<table class=\"simpletable\">\n",
       "<tr>\n",
       "  <th>Omnibus:</th>       <td>9602.877</td> <th>  Durbin-Watson:     </th> <td>   1.981</td> \n",
       "</tr>\n",
       "<tr>\n",
       "  <th>Prob(Omnibus):</th>  <td> 0.000</td>  <th>  Jarque-Bera (JB):  </th> <td>23762.770</td>\n",
       "</tr>\n",
       "<tr>\n",
       "  <th>Skew:</th>           <td> 0.961</td>  <th>  Prob(JB):          </th> <td>    0.00</td> \n",
       "</tr>\n",
       "<tr>\n",
       "  <th>Kurtosis:</th>       <td> 5.545</td>  <th>  Cond. No.          </th> <td>    5.39</td> \n",
       "</tr>\n",
       "</table><br/><br/>Warnings:<br/>[1] Standard Errors assume that the covariance matrix of the errors is correctly specified."
      ],
      "text/plain": [
       "<class 'statsmodels.iolib.summary.Summary'>\n",
       "\"\"\"\n",
       "                            OLS Regression Results                            \n",
       "==============================================================================\n",
       "Dep. Variable:          price_per_sqm   R-squared:                       0.475\n",
       "Model:                            OLS   Adj. R-squared:                  0.474\n",
       "Method:                 Least Squares   F-statistic:                     2026.\n",
       "Date:                Thu, 02 Jul 2020   Prob (F-statistic):               0.00\n",
       "Time:                        21:36:45   Log-Likelihood:            -4.5955e+05\n",
       "No. Observations:               56082   AIC:                         9.191e+05\n",
       "Df Residuals:                   56056   BIC:                         9.194e+05\n",
       "Df Model:                          25                                         \n",
       "Covariance Type:            nonrobust                                         \n",
       "===================================================================================\n",
       "                      coef    std err          t      P>|t|      [0.025      0.975]\n",
       "-----------------------------------------------------------------------------------\n",
       "ANG MO KIO       4720.6736     17.508    269.633      0.000    4686.358    4754.989\n",
       "BEDOK            4538.0278     15.863    286.068      0.000    4506.935    4569.120\n",
       "BISHAN           5921.1642     26.524    223.240      0.000    5869.177    5973.151\n",
       "BUKIT BATOK      3955.8345     19.018    208.000      0.000    3918.558    3993.111\n",
       "BUKIT MERAH      6384.0452     18.421    346.573      0.000    6347.941    6420.149\n",
       "BUKIT PANJANG    4156.5887     19.118    217.420      0.000    4119.118    4194.060\n",
       "BUKIT TIMAH      6439.6364     70.828     90.920      0.000    6300.814    6578.459\n",
       "CENTRAL AREA     7387.6321     40.759    181.250      0.000    7307.744    7467.521\n",
       "CHOA CHU KANG    3489.9668     18.449    189.168      0.000    3453.806    3526.127\n",
       "CLEMENTI         5353.2262     25.000    214.125      0.000    5304.225    5402.227\n",
       "GEYLANG          5044.9701     23.996    210.245      0.000    4997.938    5092.002\n",
       "HOUGANG          4186.7951     17.285    242.223      0.000    4152.917    4220.674\n",
       "JURONG EAST      4253.6452     24.720    172.071      0.000    4205.193    4302.097\n",
       "JURONG WEST      3815.9025     13.435    284.018      0.000    3789.569    3842.236\n",
       "KALLANG/WHAMPOA  5590.9577     21.773    256.780      0.000    5548.282    5633.633\n",
       "MARINE PARADE    5947.8245     47.653    124.816      0.000    5854.425    6041.225\n",
       "PASIR RIS        4035.9532     21.713    185.877      0.000    3993.396    4078.511\n",
       "PUNGGOL          4727.1488     14.853    318.257      0.000    4698.036    4756.261\n",
       "QUEENSTOWN       6540.8780     22.757    287.417      0.000    6496.273    6585.483\n",
       "SEMBAWANG        3695.4384     22.590    163.584      0.000    3651.161    3739.716\n",
       "SENGKANG         4416.0010     13.299    332.067      0.000    4389.936    4442.066\n",
       "SERANGOON        4786.2957     25.925    184.623      0.000    4735.483    4837.108\n",
       "TAMPINES         4518.3579     14.634    308.757      0.000    4489.675    4547.041\n",
       "TOA PAYOH        5432.8334     20.265    268.092      0.000    5393.114    5472.553\n",
       "WOODLANDS        3562.4601     13.142    271.075      0.000    3536.702    3588.218\n",
       "YISHUN           3917.6002     13.825    283.380      0.000    3890.504    3944.696\n",
       "==============================================================================\n",
       "Omnibus:                     9602.877   Durbin-Watson:                   1.981\n",
       "Prob(Omnibus):                  0.000   Jarque-Bera (JB):            23762.770\n",
       "Skew:                           0.961   Prob(JB):                         0.00\n",
       "Kurtosis:                       5.545   Cond. No.                         5.39\n",
       "==============================================================================\n",
       "\n",
       "Warnings:\n",
       "[1] Standard Errors assume that the covariance matrix of the errors is correctly specified.\n",
       "\"\"\""
      ]
     },
     "metadata": {},
     "output_type": "display_data"
    },
    {
     "name": "stdout",
     "output_type": "stream",
     "text": [
      "0.47156374790616956\n",
      "759110.5594931572\n"
     ]
    }
   ],
   "source": [
    "import statsmodels.api as sm\n",
    "\n",
    "# X_train1 = sm.add_constant(X_train1)\n",
    "\n",
    "statsmodel1 = sm.OLS(y_train1.astype(float), X_train1.astype(float)).fit()\n",
    "\n",
    "display(statsmodel1.summary(xname = town_list_no_dup))\n",
    "from sklearn.metrics import mean_squared_error\n",
    "print(regression1.score(X_test1, y_test1))\n",
    "print(mean_squared_error(y_test1, y_pred1))"
   ]
  },
  {
   "cell_type": "markdown",
   "metadata": {},
   "source": [
    "## Interpretation of Regression #1:\n",
    "\n",
    "The R-squared value show that 47.5% of the price per sqm is predicted by the town that the HDB apartment belongs to. This may indicate that the linear regression model is not fit well to the training data set.\n",
    "\n",
    "The high F-statistic value and Prob(F-statistic) value equal to zero signifies a linear relationship between independent and dependent variables.\n",
    "\n",
    "The model experienced a markedly large standard error when trying to predict HDB prices per square meter in BUKIT TIMAH than any other area.\n",
    "\n",
    "All categories illustrate statistical significance in the t-test. All P values are < 0.05, with no extremely no t-scores. This illustrates that the weight values of these towns are non-zero in influencing the price per square meter of an HDB apartment.\n",
    "\n",
    "The value of the Mean Squared Error implies that the line of best fit is far away from the individual data points."
   ]
  },
  {
   "cell_type": "markdown",
   "metadata": {},
   "source": [
    "# Univariate Linear Regression #2:\n",
    "### Independent Variable (X): Flat Type\n",
    "### Dependent Variable (y): Price Per Square Meter"
   ]
  },
  {
   "cell_type": "code",
   "execution_count": 35,
   "metadata": {},
   "outputs": [
    {
     "name": "stdout",
     "output_type": "stream",
     "text": [
      "[1.16617607e+15 1.16617607e+15 1.16617607e+15 1.16617607e+15\n",
      " 1.16617607e+15 1.16617607e+15 1.16617607e+15]\n",
      "-1166176074366413.2\n",
      "0.007190527910548639\n"
     ]
    }
   ],
   "source": [
    "dep_var2 = hdb_data[\"price_per_sqm\"]\n",
    "ind_var2 = hdb_data[[\"flat_type\"]]\n",
    "\n",
    "# One Hot Encoding for Categorical Variables\n",
    "from sklearn.preprocessing import OneHotEncoder\n",
    "ohe = OneHotEncoder()\n",
    "ind_var2_xformed = ohe.fit_transform(ind_var2).toarray()\n",
    "\n",
    "# Creating train test split with random_state = 42\n",
    "from sklearn.model_selection import train_test_split\n",
    "X_train2, X_test2, y_train2, y_test2 = train_test_split(ind_var2_xformed, dep_var2, train_size = 0.8, test_size = 0.2, random_state = 42)\n",
    "\n",
    "# Training the model\n",
    "from sklearn.linear_model import LinearRegression\n",
    "model2 = LinearRegression()\n",
    "regression2 = model2.fit(X_train2, y_train2)\n",
    "\n",
    "\n",
    "print(regression2.coef_)\n",
    "print(regression2.intercept_)\n",
    "print(regression2.score(X_test2, y_test2))\n"
   ]
  },
  {
   "cell_type": "markdown",
   "metadata": {},
   "source": [
    "## Visualizing the Predictions of Regression #2:"
   ]
  },
  {
   "cell_type": "code",
   "execution_count": 36,
   "metadata": {},
   "outputs": [
    {
     "data": {
      "image/png": "[encoded data removed]",
      "text/plain": [
       "<Figure size 1152x720 with 1 Axes>"
      ]
     },
     "metadata": {
      "needs_background": "light"
     },
     "output_type": "display_data"
    }
   ],
   "source": [
    "y_pred2 = regression2.predict(X_test2)\n",
    "\n",
    "compare_df2 = pd.DataFrame({\"Actual\": y_test2, \"Predicted\": y_pred2})\n",
    "\n",
    "import matplotlib.pyplot as plt\n",
    "\n",
    "truncated_df2 = compare_df2.head(50)\n",
    "\n",
    "truncated_df2.plot(kind = \"bar\", figsize = (16,10))\n",
    "plt.grid(which = \"major\", linestyle = \"-\", linewidth = \"0.5\", color = \"green\")\n",
    "plt.grid(which = \"minor\", linestyle = \"-\", linewidth = \"0.5\", color = \"black\")\n",
    "plt.title(\"Graph comparing Actual vs Predicted results of Regression #2\")\n",
    "plt.ylabel(\"Price per Square Meter\")\n",
    "plt.xlabel(\"Index Number\")\n",
    "plt.show()"
   ]
  },
  {
   "cell_type": "markdown",
   "metadata": {},
   "source": [
    "## Visualizing overall performance metrics of Regression #2"
   ]
  },
  {
   "cell_type": "markdown",
   "metadata": {},
   "source": [
    "### Decoding One Hot Encoded Variables\n"
   ]
  },
  {
   "cell_type": "code",
   "execution_count": 37,
   "metadata": {},
   "outputs": [
    {
     "data": {
      "text/html": [
       "<table class=\"simpletable\">\n",
       "<caption>OLS Regression Results</caption>\n",
       "<tr>\n",
       "  <th>Dep. Variable:</th>      <td>price_per_sqm</td>  <th>  R-squared:         </th>  <td>   0.006</td>  \n",
       "</tr>\n",
       "<tr>\n",
       "  <th>Model:</th>                   <td>OLS</td>       <th>  Adj. R-squared:    </th>  <td>   0.006</td>  \n",
       "</tr>\n",
       "<tr>\n",
       "  <th>Method:</th>             <td>Least Squares</td>  <th>  F-statistic:       </th>  <td>   59.54</td>  \n",
       "</tr>\n",
       "<tr>\n",
       "  <th>Date:</th>             <td>Thu, 02 Jul 2020</td> <th>  Prob (F-statistic):</th>  <td>7.59e-74</td>  \n",
       "</tr>\n",
       "<tr>\n",
       "  <th>Time:</th>                 <td>21:36:46</td>     <th>  Log-Likelihood:    </th> <td>-4.7742e+05</td>\n",
       "</tr>\n",
       "<tr>\n",
       "  <th>No. Observations:</th>      <td> 56082</td>      <th>  AIC:               </th>  <td>9.549e+05</td> \n",
       "</tr>\n",
       "<tr>\n",
       "  <th>Df Residuals:</th>          <td> 56075</td>      <th>  BIC:               </th>  <td>9.549e+05</td> \n",
       "</tr>\n",
       "<tr>\n",
       "  <th>Df Model:</th>              <td>     6</td>      <th>                     </th>      <td> </td>     \n",
       "</tr>\n",
       "<tr>\n",
       "  <th>Covariance Type:</th>      <td>nonrobust</td>    <th>                     </th>      <td> </td>     \n",
       "</tr>\n",
       "</table>\n",
       "<table class=\"simpletable\">\n",
       "<tr>\n",
       "          <td></td>            <th>coef</th>     <th>std err</th>      <th>t</th>      <th>P>|t|</th>  <th>[0.025</th>    <th>0.975]</th>  \n",
       "</tr>\n",
       "<tr>\n",
       "  <th>2 ROOM</th>           <td> 5928.0877</td> <td>  240.951</td> <td>   24.603</td> <td> 0.000</td> <td> 5455.823</td> <td> 6400.353</td>\n",
       "</tr>\n",
       "<tr>\n",
       "  <th>3 ROOM</th>           <td> 5082.9419</td> <td>   42.021</td> <td>  120.963</td> <td> 0.000</td> <td> 5000.581</td> <td> 5165.303</td>\n",
       "</tr>\n",
       "<tr>\n",
       "  <th>4 ROOM</th>           <td> 4511.7389</td> <td>   10.346</td> <td>  436.073</td> <td> 0.000</td> <td> 4491.460</td> <td> 4532.018</td>\n",
       "</tr>\n",
       "<tr>\n",
       "  <th>5 ROOM</th>           <td> 4556.7016</td> <td>    7.899</td> <td>  576.867</td> <td> 0.000</td> <td> 4541.219</td> <td> 4572.184</td>\n",
       "</tr>\n",
       "<tr>\n",
       "  <th>EXECUTIVE</th>        <td> 4487.3051</td> <td>   10.203</td> <td>  439.795</td> <td> 0.000</td> <td> 4467.307</td> <td> 4507.303</td>\n",
       "</tr>\n",
       "<tr>\n",
       "  <th>1 ROOM</th>           <td> 4331.8491</td> <td>   18.076</td> <td>  239.643</td> <td> 0.000</td> <td> 4296.419</td> <td> 4367.279</td>\n",
       "</tr>\n",
       "<tr>\n",
       "  <th>MULTI-GENERATION</th> <td> 4886.2283</td> <td>  219.957</td> <td>   22.214</td> <td> 0.000</td> <td> 4455.111</td> <td> 5317.345</td>\n",
       "</tr>\n",
       "</table>\n",
       "<table class=\"simpletable\">\n",
       "<tr>\n",
       "  <th>Omnibus:</th>       <td>17668.555</td> <th>  Durbin-Watson:     </th> <td>   1.988</td> \n",
       "</tr>\n",
       "<tr>\n",
       "  <th>Prob(Omnibus):</th>  <td> 0.000</td>   <th>  Jarque-Bera (JB):  </th> <td>51479.465</td>\n",
       "</tr>\n",
       "<tr>\n",
       "  <th>Skew:</th>           <td> 1.669</td>   <th>  Prob(JB):          </th> <td>    0.00</td> \n",
       "</tr>\n",
       "<tr>\n",
       "  <th>Kurtosis:</th>       <td> 6.300</td>   <th>  Cond. No.          </th> <td>    30.5</td> \n",
       "</tr>\n",
       "</table><br/><br/>Warnings:<br/>[1] Standard Errors assume that the covariance matrix of the errors is correctly specified."
      ],
      "text/plain": [
       "<class 'statsmodels.iolib.summary.Summary'>\n",
       "\"\"\"\n",
       "                            OLS Regression Results                            \n",
       "==============================================================================\n",
       "Dep. Variable:          price_per_sqm   R-squared:                       0.006\n",
       "Model:                            OLS   Adj. R-squared:                  0.006\n",
       "Method:                 Least Squares   F-statistic:                     59.54\n",
       "Date:                Thu, 02 Jul 2020   Prob (F-statistic):           7.59e-74\n",
       "Time:                        21:36:46   Log-Likelihood:            -4.7742e+05\n",
       "No. Observations:               56082   AIC:                         9.549e+05\n",
       "Df Residuals:                   56075   BIC:                         9.549e+05\n",
       "Df Model:                           6                                         \n",
       "Covariance Type:            nonrobust                                         \n",
       "====================================================================================\n",
       "                       coef    std err          t      P>|t|      [0.025      0.975]\n",
       "------------------------------------------------------------------------------------\n",
       "2 ROOM            5928.0877    240.951     24.603      0.000    5455.823    6400.353\n",
       "3 ROOM            5082.9419     42.021    120.963      0.000    5000.581    5165.303\n",
       "4 ROOM            4511.7389     10.346    436.073      0.000    4491.460    4532.018\n",
       "5 ROOM            4556.7016      7.899    576.867      0.000    4541.219    4572.184\n",
       "EXECUTIVE         4487.3051     10.203    439.795      0.000    4467.307    4507.303\n",
       "1 ROOM            4331.8491     18.076    239.643      0.000    4296.419    4367.279\n",
       "MULTI-GENERATION  4886.2283    219.957     22.214      0.000    4455.111    5317.345\n",
       "==============================================================================\n",
       "Omnibus:                    17668.555   Durbin-Watson:                   1.988\n",
       "Prob(Omnibus):                  0.000   Jarque-Bera (JB):            51479.465\n",
       "Skew:                           1.669   Prob(JB):                         0.00\n",
       "Kurtosis:                       6.300   Cond. No.                         30.5\n",
       "==============================================================================\n",
       "\n",
       "Warnings:\n",
       "[1] Standard Errors assume that the covariance matrix of the errors is correctly specified.\n",
       "\"\"\""
      ]
     },
     "metadata": {},
     "output_type": "display_data"
    },
    {
     "name": "stdout",
     "output_type": "stream",
     "text": [
      "0.007190527910548639\n",
      "1426193.132741599\n"
     ]
    }
   ],
   "source": [
    "types_list = list(hdb_data.loc[:, \"flat_type\"])\n",
    "\n",
    "def remove_dup(dups):\n",
    "    final_list =[]\n",
    "    for x in dups:\n",
    "        if x not in final_list:\n",
    "            final_list.append(x)\n",
    "    return final_list\n",
    "\n",
    "types_list_no_dup = remove_dup(types_list)\n",
    "\n",
    "import statsmodels.api as sm\n",
    "\n",
    "statsmodel2 = sm.OLS(y_train2.astype(float), X_train2.astype(float)).fit()\n",
    "\n",
    "display(statsmodel2.summary(xname=types_list_no_dup))\n",
    "from sklearn.metrics import mean_squared_error\n",
    "print(regression2.score(X_test2, y_test2))\n",
    "print(mean_squared_error(y_test2, y_pred2))"
   ]
  },
  {
   "cell_type": "markdown",
   "metadata": {},
   "source": [
    "## Interpretation of Regression #2:\n",
    "\n",
    "The R-squared value show that 0.07% of the price per sqm is predicted by the type of the flat. This strongly suggests that the linear regression has a poor fit.\n",
    "\n",
    "The flat type does not look to be a good predictor of price per square meter.\n",
    "\n",
    "The regression model experiences a Mean Squared Error of 1426193.1, which is a sign of poor fitting.\n"
   ]
  },
  {
   "cell_type": "markdown",
   "metadata": {},
   "source": [
    "# Univariate Linear Regression #3:\n",
    "### Independent Variable (X): Remaining Lease Duration (in years)\n",
    "### Dependent Variable (y): Price Per Square Meter"
   ]
  },
  {
   "cell_type": "code",
   "execution_count": 38,
   "metadata": {},
   "outputs": [
    {
     "name": "stdout",
     "output_type": "stream",
     "text": [
      "[25.2137548]\n",
      "2649.4195379462312\n",
      "0.06779911361638336\n"
     ]
    }
   ],
   "source": [
    "dep_var3 = hdb_data[\"price_per_sqm\"]\n",
    "ind_var3 = hdb_data[[\"remaining_lease_int\"]]\n",
    "\n",
    "# Creating train test split with random_state = 42\n",
    "from sklearn.model_selection import train_test_split\n",
    "X_train3, X_test3, y_train3, y_test3 = train_test_split(ind_var3, dep_var3, train_size = 0.8, test_size = 0.2, random_state = 42)\n",
    "\n",
    "# Training the model\n",
    "from sklearn.linear_model import LinearRegression\n",
    "model3 = LinearRegression()\n",
    "regression3 = model3.fit(X_train3, y_train3)\n",
    "\n",
    "print(regression3.coef_)\n",
    "print(regression3.intercept_)\n",
    "print(regression3.score(X_test3, y_test3))\n"
   ]
  },
  {
   "cell_type": "markdown",
   "metadata": {},
   "source": [
    "## Visualizing the Predictions of Regression #3:"
   ]
  },
  {
   "cell_type": "code",
   "execution_count": 39,
   "metadata": {},
   "outputs": [
    {
     "data": {
      "image/png": "[encoded data removed]",
      "text/plain": [
       "<Figure size 1152x720 with 1 Axes>"
      ]
     },
     "metadata": {
      "needs_background": "light"
     },
     "output_type": "display_data"
    }
   ],
   "source": [
    "y_pred3 = regression3.predict(X_test3)\n",
    "\n",
    "compare_df3 = pd.DataFrame({\"Actual\": y_test3, \"Predicted\": y_pred3})\n",
    "\n",
    "import matplotlib.pyplot as plt\n",
    "\n",
    "truncated_df3 = compare_df3.head(50)\n",
    "\n",
    "truncated_df3.plot(kind = \"bar\", figsize = (16,10))\n",
    "plt.grid(which = \"major\", linestyle = \"-\", linewidth = \"0.5\", color = \"green\")\n",
    "plt.grid(which = \"minor\", linestyle = \"-\", linewidth = \"0.5\", color = \"black\")\n",
    "plt.title(\"Graph comparing Actual vs Predicted results of Regression #3\")\n",
    "plt.ylabel(\"Price per Square Meter\")\n",
    "plt.xlabel(\"Index Number\")\n",
    "plt.show()"
   ]
  },
  {
   "cell_type": "markdown",
   "metadata": {},
   "source": [
    "## Visualizing overall performance metrics of Regression #3"
   ]
  },
  {
   "cell_type": "code",
   "execution_count": 40,
   "metadata": {},
   "outputs": [
    {
     "data": {
      "text/html": [
       "<table class=\"simpletable\">\n",
       "<caption>OLS Regression Results</caption>\n",
       "<tr>\n",
       "  <th>Dep. Variable:</th>      <td>price_per_sqm</td>  <th>  R-squared (uncentered):</th>       <td>   0.929</td>  \n",
       "</tr>\n",
       "<tr>\n",
       "  <th>Model:</th>                   <td>OLS</td>       <th>  Adj. R-squared (uncentered):</th>  <td>   0.929</td>  \n",
       "</tr>\n",
       "<tr>\n",
       "  <th>Method:</th>             <td>Least Squares</td>  <th>  F-statistic:       </th>           <td>7.325e+05</td> \n",
       "</tr>\n",
       "<tr>\n",
       "  <th>Date:</th>             <td>Thu, 02 Jul 2020</td> <th>  Prob (F-statistic):</th>            <td>  0.00</td>   \n",
       "</tr>\n",
       "<tr>\n",
       "  <th>Time:</th>                 <td>21:36:47</td>     <th>  Log-Likelihood:    </th>          <td>-4.7938e+05</td>\n",
       "</tr>\n",
       "<tr>\n",
       "  <th>No. Observations:</th>      <td> 56082</td>      <th>  AIC:               </th>           <td>9.588e+05</td> \n",
       "</tr>\n",
       "<tr>\n",
       "  <th>Df Residuals:</th>          <td> 56081</td>      <th>  BIC:               </th>           <td>9.588e+05</td> \n",
       "</tr>\n",
       "<tr>\n",
       "  <th>Df Model:</th>              <td>     1</td>      <th>                     </th>               <td> </td>     \n",
       "</tr>\n",
       "<tr>\n",
       "  <th>Covariance Type:</th>      <td>nonrobust</td>    <th>                     </th>               <td> </td>     \n",
       "</tr>\n",
       "</table>\n",
       "<table class=\"simpletable\">\n",
       "<tr>\n",
       "           <td></td>              <th>coef</th>     <th>std err</th>      <th>t</th>      <th>P>|t|</th>  <th>[0.025</th>    <th>0.975]</th>  \n",
       "</tr>\n",
       "<tr>\n",
       "  <th>remaining_lease_int</th> <td>   59.9398</td> <td>    0.070</td> <td>  855.883</td> <td> 0.000</td> <td>   59.803</td> <td>   60.077</td>\n",
       "</tr>\n",
       "</table>\n",
       "<table class=\"simpletable\">\n",
       "<tr>\n",
       "  <th>Omnibus:</th>       <td>6374.709</td> <th>  Durbin-Watson:     </th> <td>   1.984</td>\n",
       "</tr>\n",
       "<tr>\n",
       "  <th>Prob(Omnibus):</th>  <td> 0.000</td>  <th>  Jarque-Bera (JB):  </th> <td>8806.849</td>\n",
       "</tr>\n",
       "<tr>\n",
       "  <th>Skew:</th>           <td> 0.918</td>  <th>  Prob(JB):          </th> <td>    0.00</td>\n",
       "</tr>\n",
       "<tr>\n",
       "  <th>Kurtosis:</th>       <td> 3.628</td>  <th>  Cond. No.          </th> <td>    1.00</td>\n",
       "</tr>\n",
       "</table><br/><br/>Warnings:<br/>[1] Standard Errors assume that the covariance matrix of the errors is correctly specified."
      ],
      "text/plain": [
       "<class 'statsmodels.iolib.summary.Summary'>\n",
       "\"\"\"\n",
       "                                 OLS Regression Results                                \n",
       "=======================================================================================\n",
       "Dep. Variable:          price_per_sqm   R-squared (uncentered):                   0.929\n",
       "Model:                            OLS   Adj. R-squared (uncentered):              0.929\n",
       "Method:                 Least Squares   F-statistic:                          7.325e+05\n",
       "Date:                Thu, 02 Jul 2020   Prob (F-statistic):                        0.00\n",
       "Time:                        21:36:47   Log-Likelihood:                     -4.7938e+05\n",
       "No. Observations:               56082   AIC:                                  9.588e+05\n",
       "Df Residuals:                   56081   BIC:                                  9.588e+05\n",
       "Df Model:                           1                                                  \n",
       "Covariance Type:            nonrobust                                                  \n",
       "=======================================================================================\n",
       "                          coef    std err          t      P>|t|      [0.025      0.975]\n",
       "---------------------------------------------------------------------------------------\n",
       "remaining_lease_int    59.9398      0.070    855.883      0.000      59.803      60.077\n",
       "==============================================================================\n",
       "Omnibus:                     6374.709   Durbin-Watson:                   1.984\n",
       "Prob(Omnibus):                  0.000   Jarque-Bera (JB):             8806.849\n",
       "Skew:                           0.918   Prob(JB):                         0.00\n",
       "Kurtosis:                       3.628   Cond. No.                         1.00\n",
       "==============================================================================\n",
       "\n",
       "Warnings:\n",
       "[1] Standard Errors assume that the covariance matrix of the errors is correctly specified.\n",
       "\"\"\""
      ]
     },
     "metadata": {},
     "output_type": "display_data"
    },
    {
     "name": "stdout",
     "output_type": "stream",
     "text": [
      "0.06779911361638336\n",
      "1339127.536422375\n"
     ]
    }
   ],
   "source": [
    "import statsmodels.api as sm\n",
    "\n",
    "statsmodel3 = sm.OLS(y_train3.astype(float), X_train3.astype(float)).fit()\n",
    "\n",
    "display(statsmodel3.summary())\n",
    "from sklearn.metrics import mean_squared_error\n",
    "print(regression3.score(X_test3, y_test3))\n",
    "print(mean_squared_error(y_test3, y_pred3))\n"
   ]
  },
  {
   "cell_type": "markdown",
   "metadata": {},
   "source": [
    "## Interpretation of Regression #3:\n",
    "There is a large discrepancy between the R-squared score derived from the statsmodels.api and the sklearn library."
   ]
  },
  {
   "cell_type": "markdown",
   "metadata": {},
   "source": [
    "# Univariate Linear Regression #4:\n",
    "### Independent Variable (X): Storey Range\n",
    "### Dependent Variable (y): Price Per Square Meter"
   ]
  },
  {
   "cell_type": "code",
   "execution_count": 41,
   "metadata": {},
   "outputs": [
    {
     "name": "stdout",
     "output_type": "stream",
     "text": [
      "[9.98041611e+14 9.98041611e+14 9.98041611e+14 9.98041611e+14\n",
      " 9.98041611e+14 9.98041611e+14 9.98041611e+14 9.98041611e+14\n",
      " 9.98041611e+14 9.98041611e+14 9.98041611e+14 9.98041611e+14\n",
      " 9.98041611e+14 9.98041611e+14 9.98041611e+14 9.98041611e+14\n",
      " 9.98041611e+14]\n",
      "-998041611395605.1\n",
      "0.2484900095292464\n"
     ]
    }
   ],
   "source": [
    "dep_var4 = hdb_data[\"price_per_sqm\"]\n",
    "ind_var4 = hdb_data[[\"storey_range\"]]\n",
    "\n",
    "# One Hot Encoding for Categorical Variables\n",
    "from sklearn.preprocessing import OneHotEncoder\n",
    "ohe = OneHotEncoder()\n",
    "\n",
    "ind_var4_xformed = ohe.fit_transform(ind_var4).toarray()\n",
    "\n",
    "# Creating train test split with random_state = 42\n",
    "from sklearn.model_selection import train_test_split\n",
    "\n",
    "X_train4, X_test4, y_train4, y_test4 = train_test_split(ind_var4_xformed, dep_var4, train_size = 0.8, test_size = 0.2, random_state = 42)\n",
    "\n",
    "\n",
    "\n",
    "# Training the model\n",
    "from sklearn.linear_model import LinearRegression\n",
    "model = LinearRegression()\n",
    "regression4 = model.fit(X_train4, y_train4)\n",
    "\n",
    "\n",
    "print(regression4.coef_)\n",
    "print(regression4.intercept_)\n",
    "print(regression4.score(X_test4, y_test4))"
   ]
  },
  {
   "cell_type": "markdown",
   "metadata": {},
   "source": [
    "## Visualizing the Predictions of Regression #4:"
   ]
  },
  {
   "cell_type": "code",
   "execution_count": 42,
   "metadata": {},
   "outputs": [
    {
     "data": {
      "image/png": "[encoded data removed]",
      "text/plain": [
       "<Figure size 1152x720 with 1 Axes>"
      ]
     },
     "metadata": {
      "needs_background": "light"
     },
     "output_type": "display_data"
    }
   ],
   "source": [
    "y_pred4 = regression4.predict(X_test4)\n",
    "\n",
    "compare_df4 = pd.DataFrame({\"Actual\": y_test4, \"Predicted\": y_pred4})\n",
    "\n",
    "import matplotlib.pyplot as plt\n",
    "\n",
    "truncated_df4 = compare_df3.head(50)\n",
    "\n",
    "truncated_df4.plot(kind = \"bar\", figsize = (16,10))\n",
    "plt.grid(which = \"major\", linestyle = \"-\", linewidth = \"0.5\", color = \"green\")\n",
    "plt.grid(which = \"minor\", linestyle = \"-\", linewidth = \"0.5\", color = \"black\")\n",
    "plt.title(\"Graph comparing Actual vs Predicted results of Regression #4\")\n",
    "plt.ylabel(\"Price per Square Meter\")\n",
    "plt.xlabel(\"Index Number\")\n",
    "plt.show()"
   ]
  },
  {
   "cell_type": "markdown",
   "metadata": {},
   "source": [
    "## Visualizing overall performance metrics of Regression #4"
   ]
  },
  {
   "cell_type": "code",
   "execution_count": 43,
   "metadata": {},
   "outputs": [
    {
     "data": {
      "text/html": [
       "<table class=\"simpletable\">\n",
       "<caption>OLS Regression Results</caption>\n",
       "<tr>\n",
       "  <th>Dep. Variable:</th>      <td>price_per_sqm</td>  <th>  R-squared:         </th>  <td>   0.260</td>  \n",
       "</tr>\n",
       "<tr>\n",
       "  <th>Model:</th>                   <td>OLS</td>       <th>  Adj. R-squared:    </th>  <td>   0.260</td>  \n",
       "</tr>\n",
       "<tr>\n",
       "  <th>Method:</th>             <td>Least Squares</td>  <th>  F-statistic:       </th>  <td>   1231.</td>  \n",
       "</tr>\n",
       "<tr>\n",
       "  <th>Date:</th>             <td>Thu, 02 Jul 2020</td> <th>  Prob (F-statistic):</th>   <td>  0.00</td>   \n",
       "</tr>\n",
       "<tr>\n",
       "  <th>Time:</th>                 <td>21:36:48</td>     <th>  Log-Likelihood:    </th> <td>-4.6915e+05</td>\n",
       "</tr>\n",
       "<tr>\n",
       "  <th>No. Observations:</th>      <td> 56082</td>      <th>  AIC:               </th>  <td>9.383e+05</td> \n",
       "</tr>\n",
       "<tr>\n",
       "  <th>Df Residuals:</th>          <td> 56065</td>      <th>  BIC:               </th>  <td>9.385e+05</td> \n",
       "</tr>\n",
       "<tr>\n",
       "  <th>Df Model:</th>              <td>    16</td>      <th>                     </th>      <td> </td>     \n",
       "</tr>\n",
       "<tr>\n",
       "  <th>Covariance Type:</th>      <td>nonrobust</td>    <th>                     </th>      <td> </td>     \n",
       "</tr>\n",
       "</table>\n",
       "<table class=\"simpletable\">\n",
       "<tr>\n",
       "      <td></td>        <th>coef</th>     <th>std err</th>      <th>t</th>      <th>P>|t|</th>  <th>[0.025</th>    <th>0.975]</th>  \n",
       "</tr>\n",
       "<tr>\n",
       "  <th>10 TO 12</th> <td> 4069.3805</td> <td>   10.374</td> <td>  392.250</td> <td> 0.000</td> <td> 4049.047</td> <td> 4089.715</td>\n",
       "</tr>\n",
       "<tr>\n",
       "  <th>01 TO 03</th> <td> 4265.4981</td> <td>    9.112</td> <td>  468.137</td> <td> 0.000</td> <td> 4247.639</td> <td> 4283.357</td>\n",
       "</tr>\n",
       "<tr>\n",
       "  <th>04 TO 06</th> <td> 4397.4677</td> <td>    9.520</td> <td>  461.921</td> <td> 0.000</td> <td> 4378.808</td> <td> 4416.127</td>\n",
       "</tr>\n",
       "<tr>\n",
       "  <th>07 TO 09</th> <td> 4500.2737</td> <td>   10.074</td> <td>  446.741</td> <td> 0.000</td> <td> 4480.529</td> <td> 4520.018</td>\n",
       "</tr>\n",
       "<tr>\n",
       "  <th>13 TO 15</th> <td> 4808.1958</td> <td>   14.460</td> <td>  332.513</td> <td> 0.000</td> <td> 4779.854</td> <td> 4836.538</td>\n",
       "</tr>\n",
       "<tr>\n",
       "  <th>19 TO 21</th> <td> 5224.5531</td> <td>   21.485</td> <td>  243.178</td> <td> 0.000</td> <td> 5182.443</td> <td> 5266.663</td>\n",
       "</tr>\n",
       "<tr>\n",
       "  <th>22 TO 24</th> <td> 5985.4529</td> <td>   31.800</td> <td>  188.221</td> <td> 0.000</td> <td> 5923.124</td> <td> 6047.782</td>\n",
       "</tr>\n",
       "<tr>\n",
       "  <th>16 TO 18</th> <td> 6088.7927</td> <td>   37.915</td> <td>  160.591</td> <td> 0.000</td> <td> 6014.479</td> <td> 6163.106</td>\n",
       "</tr>\n",
       "<tr>\n",
       "  <th>34 TO 36</th> <td> 6840.0158</td> <td>   50.794</td> <td>  134.662</td> <td> 0.000</td> <td> 6740.459</td> <td> 6939.572</td>\n",
       "</tr>\n",
       "<tr>\n",
       "  <th>28 TO 30</th> <td> 7713.3729</td> <td>   63.159</td> <td>  122.127</td> <td> 0.000</td> <td> 7589.581</td> <td> 7837.165</td>\n",
       "</tr>\n",
       "<tr>\n",
       "  <th>37 TO 39</th> <td> 8503.8352</td> <td>  101.954</td> <td>   83.409</td> <td> 0.000</td> <td> 8304.006</td> <td> 8703.665</td>\n",
       "</tr>\n",
       "<tr>\n",
       "  <th>49 TO 51</th> <td> 8454.3155</td> <td>   94.521</td> <td>   89.444</td> <td> 0.000</td> <td> 8269.055</td> <td> 8639.576</td>\n",
       "</tr>\n",
       "<tr>\n",
       "  <th>25 TO 27</th> <td> 8854.8691</td> <td>   98.245</td> <td>   90.131</td> <td> 0.000</td> <td> 8662.309</td> <td> 9047.430</td>\n",
       "</tr>\n",
       "<tr>\n",
       "  <th>40 TO 42</th> <td> 8983.0802</td> <td>  138.939</td> <td>   64.655</td> <td> 0.000</td> <td> 8710.758</td> <td> 9255.402</td>\n",
       "</tr>\n",
       "<tr>\n",
       "  <th>31 TO 33</th> <td> 1.051e+04</td> <td>  464.980</td> <td>   22.607</td> <td> 0.000</td> <td> 9600.427</td> <td> 1.14e+04</td>\n",
       "</tr>\n",
       "<tr>\n",
       "  <th>46 TO 48</th> <td> 1.054e+04</td> <td>  346.575</td> <td>   30.401</td> <td> 0.000</td> <td> 9856.784</td> <td> 1.12e+04</td>\n",
       "</tr>\n",
       "<tr>\n",
       "  <th>43 TO 45</th> <td> 1.068e+04</td> <td>  424.466</td> <td>   25.150</td> <td> 0.000</td> <td> 9843.241</td> <td> 1.15e+04</td>\n",
       "</tr>\n",
       "</table>\n",
       "<table class=\"simpletable\">\n",
       "<tr>\n",
       "  <th>Omnibus:</th>       <td>12387.686</td> <th>  Durbin-Watson:     </th> <td>   1.986</td> \n",
       "</tr>\n",
       "<tr>\n",
       "  <th>Prob(Omnibus):</th>  <td> 0.000</td>   <th>  Jarque-Bera (JB):  </th> <td>28561.113</td>\n",
       "</tr>\n",
       "<tr>\n",
       "  <th>Skew:</th>           <td> 1.252</td>   <th>  Prob(JB):          </th> <td>    0.00</td> \n",
       "</tr>\n",
       "<tr>\n",
       "  <th>Kurtosis:</th>       <td> 5.440</td>   <th>  Cond. No.          </th> <td>    51.0</td> \n",
       "</tr>\n",
       "</table><br/><br/>Warnings:<br/>[1] Standard Errors assume that the covariance matrix of the errors is correctly specified."
      ],
      "text/plain": [
       "<class 'statsmodels.iolib.summary.Summary'>\n",
       "\"\"\"\n",
       "                            OLS Regression Results                            \n",
       "==============================================================================\n",
       "Dep. Variable:          price_per_sqm   R-squared:                       0.260\n",
       "Model:                            OLS   Adj. R-squared:                  0.260\n",
       "Method:                 Least Squares   F-statistic:                     1231.\n",
       "Date:                Thu, 02 Jul 2020   Prob (F-statistic):               0.00\n",
       "Time:                        21:36:48   Log-Likelihood:            -4.6915e+05\n",
       "No. Observations:               56082   AIC:                         9.383e+05\n",
       "Df Residuals:                   56065   BIC:                         9.385e+05\n",
       "Df Model:                          16                                         \n",
       "Covariance Type:            nonrobust                                         \n",
       "==============================================================================\n",
       "                 coef    std err          t      P>|t|      [0.025      0.975]\n",
       "------------------------------------------------------------------------------\n",
       "10 TO 12    4069.3805     10.374    392.250      0.000    4049.047    4089.715\n",
       "01 TO 03    4265.4981      9.112    468.137      0.000    4247.639    4283.357\n",
       "04 TO 06    4397.4677      9.520    461.921      0.000    4378.808    4416.127\n",
       "07 TO 09    4500.2737     10.074    446.741      0.000    4480.529    4520.018\n",
       "13 TO 15    4808.1958     14.460    332.513      0.000    4779.854    4836.538\n",
       "19 TO 21    5224.5531     21.485    243.178      0.000    5182.443    5266.663\n",
       "22 TO 24    5985.4529     31.800    188.221      0.000    5923.124    6047.782\n",
       "16 TO 18    6088.7927     37.915    160.591      0.000    6014.479    6163.106\n",
       "34 TO 36    6840.0158     50.794    134.662      0.000    6740.459    6939.572\n",
       "28 TO 30    7713.3729     63.159    122.127      0.000    7589.581    7837.165\n",
       "37 TO 39    8503.8352    101.954     83.409      0.000    8304.006    8703.665\n",
       "49 TO 51    8454.3155     94.521     89.444      0.000    8269.055    8639.576\n",
       "25 TO 27    8854.8691     98.245     90.131      0.000    8662.309    9047.430\n",
       "40 TO 42    8983.0802    138.939     64.655      0.000    8710.758    9255.402\n",
       "31 TO 33    1.051e+04    464.980     22.607      0.000    9600.427    1.14e+04\n",
       "46 TO 48    1.054e+04    346.575     30.401      0.000    9856.784    1.12e+04\n",
       "43 TO 45    1.068e+04    424.466     25.150      0.000    9843.241    1.15e+04\n",
       "==============================================================================\n",
       "Omnibus:                    12387.686   Durbin-Watson:                   1.986\n",
       "Prob(Omnibus):                  0.000   Jarque-Bera (JB):            28561.113\n",
       "Skew:                           1.252   Prob(JB):                         0.00\n",
       "Kurtosis:                       5.440   Cond. No.                         51.0\n",
       "==============================================================================\n",
       "\n",
       "Warnings:\n",
       "[1] Standard Errors assume that the covariance matrix of the errors is correctly specified.\n",
       "\"\"\""
      ]
     },
     "metadata": {},
     "output_type": "display_data"
    },
    {
     "name": "stdout",
     "output_type": "stream",
     "text": [
      "0.2484900095292464\n",
      "1079561.0011056836\n"
     ]
    }
   ],
   "source": [
    "storey_list = list(hdb_data.loc[:, \"storey_range\"])\n",
    "\n",
    "def remove_dup(dups):\n",
    "    final_list =[]\n",
    "    for x in dups:\n",
    "        if x not in final_list:\n",
    "            final_list.append(x)\n",
    "    return final_list\n",
    "\n",
    "storey_list_no_dup = remove_dup(storey_list)\n",
    "\n",
    "import statsmodels.api as sm\n",
    "\n",
    "statsmodel4 = sm.OLS(y_train4.astype(float), X_train4.astype(float)).fit()\n",
    "\n",
    "display(statsmodel4.summary(xname=storey_list_no_dup))\n",
    "from sklearn.metrics import mean_squared_error\n",
    "print(regression4.score(X_test4, y_test4))\n",
    "print(mean_squared_error(y_test4, y_pred4))"
   ]
  },
  {
   "cell_type": "markdown",
   "metadata": {},
   "source": [
    "##  Interpretation of Regression #4:"
   ]
  },
  {
   "cell_type": "markdown",
   "metadata": {},
   "source": [
    "# Multiple Linear Regression Model\n",
    "### Independent Variables (X): Town, Storey Range\n",
    "### Dependent Variable (y): Price per Square Meter\n",
    "\n",
    "The X's were picked based on their R-squared and Mean Squared Error scores. Based on the 4 univariate regressions conducted, Town and Storey Range yielded the most promising performance metrics."
   ]
  },
  {
   "cell_type": "code",
   "execution_count": 44,
   "metadata": {},
   "outputs": [
    {
     "name": "stdout",
     "output_type": "stream",
     "text": [
      "[-1.54023911e+13 -1.54023911e+13 -1.54023911e+13 -1.54023911e+13\n",
      " -1.54023911e+13 -1.54023911e+13 -1.54023911e+13 -1.54023911e+13\n",
      " -1.54023911e+13 -1.54023911e+13 -1.54023911e+13 -1.54023911e+13\n",
      " -1.54023911e+13 -1.54023911e+13 -1.54023911e+13 -1.54023911e+13\n",
      " -1.54023911e+13 -1.54023911e+13 -1.54023911e+13 -1.54023911e+13\n",
      " -1.54023911e+13 -1.54023911e+13 -1.54023911e+13 -1.54023911e+13\n",
      " -1.54023911e+13 -1.54023911e+13 -2.16216630e+03 -1.97282408e+03\n",
      " -1.84530305e+03 -1.72064764e+03 -1.45794603e+03 -1.19495466e+03\n",
      " -7.38991514e+02 -6.23078559e+02 -6.35572062e+01  5.57326403e+02\n",
      "  1.03316767e+03  1.04703034e+03  1.36757891e+03  1.47564159e+03\n",
      "  2.03699095e+03  2.06127478e+03  2.20039952e+03]\n",
      "15402391151393.352\n",
      "0.5998736716183273\n"
     ]
    }
   ],
   "source": [
    "dep_var = hdb_data[\"price_per_sqm\"]\n",
    "ind_vars = hdb_data[[\"town\", \"storey_range\"]]\n",
    "\n",
    "# One Hot Encoding for Categorical Variables\n",
    "from sklearn.preprocessing import OneHotEncoder\n",
    "ohe = OneHotEncoder()\n",
    "ind_vars_xformed = ohe.fit_transform(ind_vars).toarray()\n",
    "\n",
    "# Creating train test split with random_state = 42\n",
    "from sklearn.model_selection import train_test_split\n",
    "X_train, X_test, y_train, y_test = train_test_split(ind_vars_xformed, dep_var, train_size = 0.8, test_size = 0.2, random_state = 42)\n",
    "\n",
    "# Training the model\n",
    "from sklearn.linear_model import LinearRegression\n",
    "model = LinearRegression()\n",
    "multi_regression = model.fit(X_train, y_train)\n",
    "\n",
    "\n",
    "print(multi_regression.coef_)\n",
    "print(multi_regression.intercept_)\n",
    "print(multi_regression.score(X_test, y_test))\n"
   ]
  },
  {
   "cell_type": "markdown",
   "metadata": {},
   "source": [
    "## Visualizing the Predictions of Multiple Regression"
   ]
  },
  {
   "cell_type": "code",
   "execution_count": 45,
   "metadata": {},
   "outputs": [
    {
     "data": {
      "image/png": "[encoded data removed]",
      "text/plain": [
       "<Figure size 1152x720 with 1 Axes>"
      ]
     },
     "metadata": {
      "needs_background": "light"
     },
     "output_type": "display_data"
    }
   ],
   "source": [
    "y_pred = multi_regression.predict(X_test)\n",
    "\n",
    "compare_df = pd.DataFrame({\"Actual\": y_test, \"Predicted\": y_pred})\n",
    "\n",
    "import matplotlib.pyplot as plt\n",
    "\n",
    "truncated_df = compare_df.head(50)\n",
    "\n",
    "truncated_df.plot(kind = \"bar\", figsize = (16,10))\n",
    "plt.grid(which = \"major\", linestyle = \"-\", linewidth = \"0.5\", color = \"green\")\n",
    "plt.grid(which = \"minor\", linestyle = \"-\", linewidth = \"0.5\", color = \"black\")\n",
    "plt.title(\"Graph comparing Actual vs Predicted results of Multiple Regression\")\n",
    "plt.ylabel(\"Price per Square Meter\")\n",
    "plt.xlabel(\"Index Number\")\n",
    "plt.show()"
   ]
  },
  {
   "cell_type": "markdown",
   "metadata": {},
   "source": [
    "## Visualizing overall performance metrics of Multiple Regression"
   ]
  },
  {
   "cell_type": "code",
   "execution_count": 46,
   "metadata": {},
   "outputs": [
    {
     "data": {
      "text/html": [
       "<table class=\"simpletable\">\n",
       "<caption>OLS Regression Results</caption>\n",
       "<tr>\n",
       "  <th>Dep. Variable:</th>      <td>price_per_sqm</td>  <th>  R-squared:         </th>  <td>   0.607</td>  \n",
       "</tr>\n",
       "<tr>\n",
       "  <th>Model:</th>                   <td>OLS</td>       <th>  Adj. R-squared:    </th>  <td>   0.607</td>  \n",
       "</tr>\n",
       "<tr>\n",
       "  <th>Method:</th>             <td>Least Squares</td>  <th>  F-statistic:       </th>  <td>   2110.</td>  \n",
       "</tr>\n",
       "<tr>\n",
       "  <th>Date:</th>             <td>Thu, 02 Jul 2020</td> <th>  Prob (F-statistic):</th>   <td>  0.00</td>   \n",
       "</tr>\n",
       "<tr>\n",
       "  <th>Time:</th>                 <td>21:21:02</td>     <th>  Log-Likelihood:    </th> <td>-4.5142e+05</td>\n",
       "</tr>\n",
       "<tr>\n",
       "  <th>No. Observations:</th>      <td> 56082</td>      <th>  AIC:               </th>  <td>9.029e+05</td> \n",
       "</tr>\n",
       "<tr>\n",
       "  <th>Df Residuals:</th>          <td> 56040</td>      <th>  BIC:               </th>  <td>9.033e+05</td> \n",
       "</tr>\n",
       "<tr>\n",
       "  <th>Df Model:</th>              <td>    41</td>      <th>                     </th>      <td> </td>     \n",
       "</tr>\n",
       "<tr>\n",
       "  <th>Covariance Type:</th>      <td>nonrobust</td>    <th>                     </th>      <td> </td>     \n",
       "</tr>\n",
       "</table>\n",
       "<table class=\"simpletable\">\n",
       "<tr>\n",
       "   <td></td>      <th>coef</th>     <th>std err</th>      <th>t</th>      <th>P>|t|</th>  <th>[0.025</th>    <th>0.975]</th>  \n",
       "</tr>\n",
       "<tr>\n",
       "  <th>x1</th>  <td> 2489.7973</td> <td>   20.175</td> <td>  123.411</td> <td> 0.000</td> <td> 2450.255</td> <td> 2529.340</td>\n",
       "</tr>\n",
       "<tr>\n",
       "  <th>x2</th>  <td> 2394.9590</td> <td>   19.267</td> <td>  124.306</td> <td> 0.000</td> <td> 2357.196</td> <td> 2432.722</td>\n",
       "</tr>\n",
       "<tr>\n",
       "  <th>x3</th>  <td> 3655.6379</td> <td>   26.188</td> <td>  139.592</td> <td> 0.000</td> <td> 3604.309</td> <td> 3706.967</td>\n",
       "</tr>\n",
       "<tr>\n",
       "  <th>x4</th>  <td> 1789.8929</td> <td>   21.177</td> <td>   84.522</td> <td> 0.000</td> <td> 1748.387</td> <td> 1831.399</td>\n",
       "</tr>\n",
       "<tr>\n",
       "  <th>x5</th>  <td> 3879.8895</td> <td>   20.498</td> <td>  189.280</td> <td> 0.000</td> <td> 3839.713</td> <td> 3920.066</td>\n",
       "</tr>\n",
       "<tr>\n",
       "  <th>x6</th>  <td> 1806.8991</td> <td>   21.141</td> <td>   85.469</td> <td> 0.000</td> <td> 1765.463</td> <td> 1848.335</td>\n",
       "</tr>\n",
       "<tr>\n",
       "  <th>x7</th>  <td> 4295.7783</td> <td>   61.426</td> <td>   69.934</td> <td> 0.000</td> <td> 4175.383</td> <td> 4416.173</td>\n",
       "</tr>\n",
       "<tr>\n",
       "  <th>x8</th>  <td> 4482.3072</td> <td>   35.037</td> <td>  127.929</td> <td> 0.000</td> <td> 4413.634</td> <td> 4550.981</td>\n",
       "</tr>\n",
       "<tr>\n",
       "  <th>x9</th>  <td> 1297.2128</td> <td>   20.819</td> <td>   62.309</td> <td> 0.000</td> <td> 1256.408</td> <td> 1338.018</td>\n",
       "</tr>\n",
       "<tr>\n",
       "  <th>x10</th> <td> 3038.1971</td> <td>   25.050</td> <td>  121.283</td> <td> 0.000</td> <td> 2989.098</td> <td> 3087.296</td>\n",
       "</tr>\n",
       "<tr>\n",
       "  <th>x11</th> <td> 2903.7313</td> <td>   24.549</td> <td>  118.282</td> <td> 0.000</td> <td> 2855.615</td> <td> 2951.848</td>\n",
       "</tr>\n",
       "<tr>\n",
       "  <th>x12</th> <td> 2055.1516</td> <td>   20.141</td> <td>  102.041</td> <td> 0.000</td> <td> 2015.676</td> <td> 2094.627</td>\n",
       "</tr>\n",
       "<tr>\n",
       "  <th>x13</th> <td> 1958.2648</td> <td>   24.849</td> <td>   78.808</td> <td> 0.000</td> <td> 1909.561</td> <td> 2006.968</td>\n",
       "</tr>\n",
       "<tr>\n",
       "  <th>x14</th> <td> 1648.9083</td> <td>   17.890</td> <td>   92.171</td> <td> 0.000</td> <td> 1613.844</td> <td> 1683.972</td>\n",
       "</tr>\n",
       "<tr>\n",
       "  <th>x15</th> <td> 3231.8444</td> <td>   22.812</td> <td>  141.673</td> <td> 0.000</td> <td> 3187.133</td> <td> 3276.556</td>\n",
       "</tr>\n",
       "<tr>\n",
       "  <th>x16</th> <td> 3689.0523</td> <td>   42.543</td> <td>   86.714</td> <td> 0.000</td> <td> 3605.668</td> <td> 3772.436</td>\n",
       "</tr>\n",
       "<tr>\n",
       "  <th>x17</th> <td> 1941.9316</td> <td>   23.024</td> <td>   84.342</td> <td> 0.000</td> <td> 1896.804</td> <td> 1987.060</td>\n",
       "</tr>\n",
       "<tr>\n",
       "  <th>x18</th> <td> 2457.8726</td> <td>   18.733</td> <td>  131.208</td> <td> 0.000</td> <td> 2421.157</td> <td> 2494.589</td>\n",
       "</tr>\n",
       "<tr>\n",
       "  <th>x19</th> <td> 3911.6701</td> <td>   23.257</td> <td>  168.197</td> <td> 0.000</td> <td> 3866.087</td> <td> 3957.253</td>\n",
       "</tr>\n",
       "<tr>\n",
       "  <th>x20</th> <td> 1479.8021</td> <td>   23.575</td> <td>   62.769</td> <td> 0.000</td> <td> 1433.594</td> <td> 1526.010</td>\n",
       "</tr>\n",
       "<tr>\n",
       "  <th>x21</th> <td> 2075.0273</td> <td>   17.761</td> <td>  116.830</td> <td> 0.000</td> <td> 2040.216</td> <td> 2109.839</td>\n",
       "</tr>\n",
       "<tr>\n",
       "  <th>x22</th> <td> 2708.1875</td> <td>   25.958</td> <td>  104.330</td> <td> 0.000</td> <td> 2657.310</td> <td> 2759.065</td>\n",
       "</tr>\n",
       "<tr>\n",
       "  <th>x23</th> <td> 2444.6551</td> <td>   18.631</td> <td>  131.212</td> <td> 0.000</td> <td> 2408.138</td> <td> 2481.173</td>\n",
       "</tr>\n",
       "<tr>\n",
       "  <th>x24</th> <td> 2974.7768</td> <td>   21.616</td> <td>  137.618</td> <td> 0.000</td> <td> 2932.409</td> <td> 3017.145</td>\n",
       "</tr>\n",
       "<tr>\n",
       "  <th>x25</th> <td> 1437.8239</td> <td>   17.771</td> <td>   80.910</td> <td> 0.000</td> <td> 1402.993</td> <td> 1472.654</td>\n",
       "</tr>\n",
       "<tr>\n",
       "  <th>x26</th> <td> 1823.0441</td> <td>   18.176</td> <td>  100.300</td> <td> 0.000</td> <td> 1787.419</td> <td> 1858.669</td>\n",
       "</tr>\n",
       "<tr>\n",
       "  <th>x27</th> <td> 1830.3215</td> <td>   15.522</td> <td>  117.916</td> <td> 0.000</td> <td> 1799.898</td> <td> 1860.745</td>\n",
       "</tr>\n",
       "<tr>\n",
       "  <th>x28</th> <td> 2019.6684</td> <td>   15.066</td> <td>  134.057</td> <td> 0.000</td> <td> 1990.139</td> <td> 2049.197</td>\n",
       "</tr>\n",
       "<tr>\n",
       "  <th>x29</th> <td> 2147.1941</td> <td>   15.181</td> <td>  141.443</td> <td> 0.000</td> <td> 2117.440</td> <td> 2176.948</td>\n",
       "</tr>\n",
       "<tr>\n",
       "  <th>x30</th> <td> 2271.8518</td> <td>   15.374</td> <td>  147.771</td> <td> 0.000</td> <td> 2241.718</td> <td> 2301.985</td>\n",
       "</tr>\n",
       "<tr>\n",
       "  <th>x31</th> <td> 2534.5357</td> <td>   17.083</td> <td>  148.366</td> <td> 0.000</td> <td> 2501.053</td> <td> 2568.019</td>\n",
       "</tr>\n",
       "<tr>\n",
       "  <th>x32</th> <td> 2797.5354</td> <td>   20.431</td> <td>  136.928</td> <td> 0.000</td> <td> 2757.491</td> <td> 2837.580</td>\n",
       "</tr>\n",
       "<tr>\n",
       "  <th>x33</th> <td> 3253.5035</td> <td>   26.335</td> <td>  123.542</td> <td> 0.000</td> <td> 3201.886</td> <td> 3305.121</td>\n",
       "</tr>\n",
       "<tr>\n",
       "  <th>x34</th> <td> 3369.4158</td> <td>   30.235</td> <td>  111.439</td> <td> 0.000</td> <td> 3310.154</td> <td> 3428.677</td>\n",
       "</tr>\n",
       "<tr>\n",
       "  <th>x35</th> <td> 3928.9366</td> <td>   38.664</td> <td>  101.617</td> <td> 0.000</td> <td> 3853.155</td> <td> 4004.718</td>\n",
       "</tr>\n",
       "<tr>\n",
       "  <th>x36</th> <td> 4549.8222</td> <td>   47.109</td> <td>   96.580</td> <td> 0.000</td> <td> 4457.488</td> <td> 4642.157</td>\n",
       "</tr>\n",
       "<tr>\n",
       "  <th>x37</th> <td> 5025.6605</td> <td>   74.053</td> <td>   67.866</td> <td> 0.000</td> <td> 4880.516</td> <td> 5170.805</td>\n",
       "</tr>\n",
       "<tr>\n",
       "  <th>x38</th> <td> 5039.5236</td> <td>   68.743</td> <td>   73.310</td> <td> 0.000</td> <td> 4904.788</td> <td> 5174.259</td>\n",
       "</tr>\n",
       "<tr>\n",
       "  <th>x39</th> <td> 5360.0720</td> <td>   71.360</td> <td>   75.113</td> <td> 0.000</td> <td> 5220.206</td> <td> 5499.938</td>\n",
       "</tr>\n",
       "<tr>\n",
       "  <th>x40</th> <td> 5468.1340</td> <td>   99.980</td> <td>   54.692</td> <td> 0.000</td> <td> 5272.173</td> <td> 5664.095</td>\n",
       "</tr>\n",
       "<tr>\n",
       "  <th>x41</th> <td> 6029.4824</td> <td>  332.852</td> <td>   18.115</td> <td> 0.000</td> <td> 5377.091</td> <td> 6681.874</td>\n",
       "</tr>\n",
       "<tr>\n",
       "  <th>x42</th> <td> 6053.7666</td> <td>  249.190</td> <td>   24.294</td> <td> 0.000</td> <td> 5565.352</td> <td> 6542.181</td>\n",
       "</tr>\n",
       "<tr>\n",
       "  <th>x43</th> <td> 6192.8911</td> <td>  304.187</td> <td>   20.359</td> <td> 0.000</td> <td> 5596.682</td> <td> 6789.100</td>\n",
       "</tr>\n",
       "</table>\n",
       "<table class=\"simpletable\">\n",
       "<tr>\n",
       "  <th>Omnibus:</th>       <td>8264.928</td> <th>  Durbin-Watson:     </th> <td>   1.980</td> \n",
       "</tr>\n",
       "<tr>\n",
       "  <th>Prob(Omnibus):</th>  <td> 0.000</td>  <th>  Jarque-Bera (JB):  </th> <td>19060.721</td>\n",
       "</tr>\n",
       "<tr>\n",
       "  <th>Skew:</th>           <td> 0.862</td>  <th>  Prob(JB):          </th> <td>    0.00</td> \n",
       "</tr>\n",
       "<tr>\n",
       "  <th>Kurtosis:</th>       <td> 5.278</td>  <th>  Cond. No.          </th> <td>3.76e+15</td> \n",
       "</tr>\n",
       "</table><br/><br/>Warnings:<br/>[1] Standard Errors assume that the covariance matrix of the errors is correctly specified.<br/>[2] The smallest eigenvalue is 1.03e-27. This might indicate that there are<br/>strong multicollinearity problems or that the design matrix is singular."
      ],
      "text/plain": [
       "<class 'statsmodels.iolib.summary.Summary'>\n",
       "\"\"\"\n",
       "                            OLS Regression Results                            \n",
       "==============================================================================\n",
       "Dep. Variable:          price_per_sqm   R-squared:                       0.607\n",
       "Model:                            OLS   Adj. R-squared:                  0.607\n",
       "Method:                 Least Squares   F-statistic:                     2110.\n",
       "Date:                Thu, 02 Jul 2020   Prob (F-statistic):               0.00\n",
       "Time:                        21:21:02   Log-Likelihood:            -4.5142e+05\n",
       "No. Observations:               56082   AIC:                         9.029e+05\n",
       "Df Residuals:                   56040   BIC:                         9.033e+05\n",
       "Df Model:                          41                                         \n",
       "Covariance Type:            nonrobust                                         \n",
       "==============================================================================\n",
       "                 coef    std err          t      P>|t|      [0.025      0.975]\n",
       "------------------------------------------------------------------------------\n",
       "x1          2489.7973     20.175    123.411      0.000    2450.255    2529.340\n",
       "x2          2394.9590     19.267    124.306      0.000    2357.196    2432.722\n",
       "x3          3655.6379     26.188    139.592      0.000    3604.309    3706.967\n",
       "x4          1789.8929     21.177     84.522      0.000    1748.387    1831.399\n",
       "x5          3879.8895     20.498    189.280      0.000    3839.713    3920.066\n",
       "x6          1806.8991     21.141     85.469      0.000    1765.463    1848.335\n",
       "x7          4295.7783     61.426     69.934      0.000    4175.383    4416.173\n",
       "x8          4482.3072     35.037    127.929      0.000    4413.634    4550.981\n",
       "x9          1297.2128     20.819     62.309      0.000    1256.408    1338.018\n",
       "x10         3038.1971     25.050    121.283      0.000    2989.098    3087.296\n",
       "x11         2903.7313     24.549    118.282      0.000    2855.615    2951.848\n",
       "x12         2055.1516     20.141    102.041      0.000    2015.676    2094.627\n",
       "x13         1958.2648     24.849     78.808      0.000    1909.561    2006.968\n",
       "x14         1648.9083     17.890     92.171      0.000    1613.844    1683.972\n",
       "x15         3231.8444     22.812    141.673      0.000    3187.133    3276.556\n",
       "x16         3689.0523     42.543     86.714      0.000    3605.668    3772.436\n",
       "x17         1941.9316     23.024     84.342      0.000    1896.804    1987.060\n",
       "x18         2457.8726     18.733    131.208      0.000    2421.157    2494.589\n",
       "x19         3911.6701     23.257    168.197      0.000    3866.087    3957.253\n",
       "x20         1479.8021     23.575     62.769      0.000    1433.594    1526.010\n",
       "x21         2075.0273     17.761    116.830      0.000    2040.216    2109.839\n",
       "x22         2708.1875     25.958    104.330      0.000    2657.310    2759.065\n",
       "x23         2444.6551     18.631    131.212      0.000    2408.138    2481.173\n",
       "x24         2974.7768     21.616    137.618      0.000    2932.409    3017.145\n",
       "x25         1437.8239     17.771     80.910      0.000    1402.993    1472.654\n",
       "x26         1823.0441     18.176    100.300      0.000    1787.419    1858.669\n",
       "x27         1830.3215     15.522    117.916      0.000    1799.898    1860.745\n",
       "x28         2019.6684     15.066    134.057      0.000    1990.139    2049.197\n",
       "x29         2147.1941     15.181    141.443      0.000    2117.440    2176.948\n",
       "x30         2271.8518     15.374    147.771      0.000    2241.718    2301.985\n",
       "x31         2534.5357     17.083    148.366      0.000    2501.053    2568.019\n",
       "x32         2797.5354     20.431    136.928      0.000    2757.491    2837.580\n",
       "x33         3253.5035     26.335    123.542      0.000    3201.886    3305.121\n",
       "x34         3369.4158     30.235    111.439      0.000    3310.154    3428.677\n",
       "x35         3928.9366     38.664    101.617      0.000    3853.155    4004.718\n",
       "x36         4549.8222     47.109     96.580      0.000    4457.488    4642.157\n",
       "x37         5025.6605     74.053     67.866      0.000    4880.516    5170.805\n",
       "x38         5039.5236     68.743     73.310      0.000    4904.788    5174.259\n",
       "x39         5360.0720     71.360     75.113      0.000    5220.206    5499.938\n",
       "x40         5468.1340     99.980     54.692      0.000    5272.173    5664.095\n",
       "x41         6029.4824    332.852     18.115      0.000    5377.091    6681.874\n",
       "x42         6053.7666    249.190     24.294      0.000    5565.352    6542.181\n",
       "x43         6192.8911    304.187     20.359      0.000    5596.682    6789.100\n",
       "==============================================================================\n",
       "Omnibus:                     8264.928   Durbin-Watson:                   1.980\n",
       "Prob(Omnibus):                  0.000   Jarque-Bera (JB):            19060.721\n",
       "Skew:                           0.862   Prob(JB):                         0.00\n",
       "Kurtosis:                       5.278   Cond. No.                     3.76e+15\n",
       "==============================================================================\n",
       "\n",
       "Warnings:\n",
       "[1] Standard Errors assume that the covariance matrix of the errors is correctly specified.\n",
       "[2] The smallest eigenvalue is 1.03e-27. This might indicate that there are\n",
       "strong multicollinearity problems or that the design matrix is singular.\n",
       "\"\"\""
      ]
     },
     "metadata": {},
     "output_type": "display_data"
    },
    {
     "name": "stdout",
     "output_type": "stream",
     "text": [
      "0.5998736716183273\n",
      "574790.4686747749\n"
     ]
    }
   ],
   "source": [
    "list1 = list(hdb_data.loc[:, \"town\"])\n",
    "list2 = list(hdb_data.loc[:, \"storey_range\"])\n",
    "\n",
    "\n",
    "def remove_dup(dups):\n",
    "    final_list =[]\n",
    "    for x in dups:\n",
    "        if x not in final_list:\n",
    "            final_list.append(x)\n",
    "    return final_list\n",
    "\n",
    "no_dups1 = remove_dup(list1)\n",
    "no_dups2 = remove_dup(list2)\n",
    "\n",
    "total_list = no_dups1 + no_dups2\n",
    "\n",
    "import statsmodels.api as sm\n",
    "\n",
    "statsmodel = sm.OLS(y_train.astype(float), X_train.astype(float)).fit()\n",
    "display(statsmodel.summary())\n",
    "# display(statsmodel.summary(xname= total_list))\n",
    "from sklearn.metrics import mean_squared_error\n",
    "print(multi_regression.score(X_test, y_test))\n",
    "print(mean_squared_error(y_test, y_pred))"
   ]
  },
  {
   "cell_type": "markdown",
   "metadata": {},
   "source": [
    "## Interpretation of Multiple Regression:\n",
    "\n",
    "The model, when factoring in 2 predictors, is able to explain 60% of the training data and 59% of the testing data. However, the Mean Squared Score is extremely large, implying a poorly fit regression line.\n",
    "\n",
    "According to the summary table, predictors number 41 to 43 have a comparably higher standard error and lower t-value than the rest of the predictors. Given more resources, the model could be further fine-tuned using feature engineering techniques to improve the R-squared score while mitigating overfitting."
   ]
  },
  {
   "cell_type": "markdown",
   "metadata": {},
   "source": [
    "## Part 4B: K-means clustering\n",
    "\n",
    "#### B1. storey_int and price per sqm\n",
    "#### B2. region and price per sqm\n",
    "#### B3. flat type and price per sqm"
   ]
  },
  {
   "cell_type": "markdown",
   "metadata": {},
   "source": [
    "### B1. storey_int and price per sqm"
   ]
  },
  {
   "cell_type": "code",
   "execution_count": 47,
   "metadata": {},
   "outputs": [],
   "source": [
    "df_1 = hdb_data[[\"storey_ave\", \"price_per_sqm\"]]\n",
    "df_1_labels = hdb_data[[\"storey_ave\", \"price_per_sqm\"]]\n",
    "distorsions_1 = []\n"
   ]
  },
  {
   "cell_type": "code",
   "execution_count": 48,
   "metadata": {},
   "outputs": [
    {
     "data": {
      "text/plain": [
       "Text(0.5, 1.0, 'Elbow Plot 1')"
      ]
     },
     "execution_count": 48,
     "metadata": {},
     "output_type": "execute_result"
    },
    {
     "data": {
      "image/png": "[encoded data removed]",
      "text/plain": [
       "<Figure size 1080x360 with 1 Axes>"
      ]
     },
     "metadata": {
      "needs_background": "light"
     },
     "output_type": "display_data"
    }
   ],
   "source": [
    "#elbow plot 1\n",
    "\n",
    "from sklearn.cluster import KMeans\n",
    "from matplotlib import pyplot as plt\n",
    "\n",
    "for k in range(2,20):\n",
    "    kmeans_1 = KMeans(n_clusters=k)\n",
    "    kmeans_1.fit(df_1)\n",
    "    distorsions_1.append(kmeans_1.inertia_)\n",
    "\n",
    "fig_1 = plt.figure(figsize=(15,5))\n",
    "plt.plot(range(2,20), distorsions_1)\n",
    "plt.grid(True)\n",
    "plt.title(\"Elbow Plot 1\")\n"
   ]
  },
  {
   "cell_type": "code",
   "execution_count": 49,
   "metadata": {},
   "outputs": [
    {
     "name": "stderr",
     "output_type": "stream",
     "text": [
      "C:\\ProgramData\\Anaconda3\\lib\\site-packages\\ipykernel_launcher.py:5: SettingWithCopyWarning: \n",
      "A value is trying to be set on a copy of a slice from a DataFrame.\n",
      "Try using .loc[row_indexer,col_indexer] = value instead\n",
      "\n",
      "See the caveats in the documentation: http://pandas.pydata.org/pandas-docs/stable/user_guide/indexing.html#returning-a-view-versus-a-copy\n",
      "  \"\"\"\n"
     ]
    },
    {
     "data": {
      "text/html": [
       "<div>\n",
       "<style scoped>\n",
       "    .dataframe tbody tr th:only-of-type {\n",
       "        vertical-align: middle;\n",
       "    }\n",
       "\n",
       "    .dataframe tbody tr th {\n",
       "        vertical-align: top;\n",
       "    }\n",
       "\n",
       "    .dataframe thead th {\n",
       "        text-align: right;\n",
       "    }\n",
       "</style>\n",
       "<table border=\"1\" class=\"dataframe\">\n",
       "  <thead>\n",
       "    <tr style=\"text-align: right;\">\n",
       "      <th></th>\n",
       "      <th>storey_ave</th>\n",
       "      <th>price_per_sqm</th>\n",
       "      <th>labels</th>\n",
       "    </tr>\n",
       "  </thead>\n",
       "  <tbody>\n",
       "    <tr>\n",
       "      <td>0</td>\n",
       "      <td>11</td>\n",
       "      <td>5272.727273</td>\n",
       "      <td>2</td>\n",
       "    </tr>\n",
       "    <tr>\n",
       "      <td>1</td>\n",
       "      <td>2</td>\n",
       "      <td>3731.343284</td>\n",
       "      <td>0</td>\n",
       "    </tr>\n",
       "    <tr>\n",
       "      <td>2</td>\n",
       "      <td>2</td>\n",
       "      <td>3910.447761</td>\n",
       "      <td>0</td>\n",
       "    </tr>\n",
       "    <tr>\n",
       "      <td>3</td>\n",
       "      <td>5</td>\n",
       "      <td>3897.058824</td>\n",
       "      <td>0</td>\n",
       "    </tr>\n",
       "    <tr>\n",
       "      <td>4</td>\n",
       "      <td>2</td>\n",
       "      <td>3955.223881</td>\n",
       "      <td>0</td>\n",
       "    </tr>\n",
       "  </tbody>\n",
       "</table>\n",
       "</div>"
      ],
      "text/plain": [
       "   storey_ave  price_per_sqm  labels\n",
       "0          11    5272.727273       2\n",
       "1           2    3731.343284       0\n",
       "2           2    3910.447761       0\n",
       "3           5    3897.058824       0\n",
       "4           2    3955.223881       0"
      ]
     },
     "execution_count": 49,
     "metadata": {},
     "output_type": "execute_result"
    }
   ],
   "source": [
    "k_1 = 4\n",
    "model_1 = KMeans(n_clusters=k_1, random_state=0)\n",
    "hdb_kmeans_1 = model_1.fit(df_1)\n",
    "\n",
    "df_1_labels[\"labels\"] = hdb_kmeans_1.labels_\n",
    "df_1_labels.head()"
   ]
  },
  {
   "cell_type": "code",
   "execution_count": 50,
   "metadata": {},
   "outputs": [
    {
     "data": {
      "text/html": [
       "<div>\n",
       "<style scoped>\n",
       "    .dataframe tbody tr th:only-of-type {\n",
       "        vertical-align: middle;\n",
       "    }\n",
       "\n",
       "    .dataframe tbody tr th {\n",
       "        vertical-align: top;\n",
       "    }\n",
       "\n",
       "    .dataframe thead th {\n",
       "        text-align: right;\n",
       "    }\n",
       "</style>\n",
       "<table border=\"1\" class=\"dataframe\">\n",
       "  <thead>\n",
       "    <tr style=\"text-align: right;\">\n",
       "      <th></th>\n",
       "      <th>storey_ave</th>\n",
       "      <th>price_per_sqm</th>\n",
       "      <th>label</th>\n",
       "    </tr>\n",
       "  </thead>\n",
       "  <tbody>\n",
       "    <tr>\n",
       "      <td>0</td>\n",
       "      <td>6.754104</td>\n",
       "      <td>3578.463869</td>\n",
       "      <td>0</td>\n",
       "    </tr>\n",
       "    <tr>\n",
       "      <td>1</td>\n",
       "      <td>17.068966</td>\n",
       "      <td>7937.923989</td>\n",
       "      <td>1</td>\n",
       "    </tr>\n",
       "    <tr>\n",
       "      <td>2</td>\n",
       "      <td>10.087757</td>\n",
       "      <td>5705.268807</td>\n",
       "      <td>2</td>\n",
       "    </tr>\n",
       "    <tr>\n",
       "      <td>3</td>\n",
       "      <td>8.549221</td>\n",
       "      <td>4463.240452</td>\n",
       "      <td>3</td>\n",
       "    </tr>\n",
       "  </tbody>\n",
       "</table>\n",
       "</div>"
      ],
      "text/plain": [
       "   storey_ave  price_per_sqm  label\n",
       "0    6.754104    3578.463869      0\n",
       "1   17.068966    7937.923989      1\n",
       "2   10.087757    5705.268807      2\n",
       "3    8.549221    4463.240452      3"
      ]
     },
     "execution_count": 50,
     "metadata": {},
     "output_type": "execute_result"
    }
   ],
   "source": [
    "centroids_df_1 = pd.DataFrame(hdb_kmeans_1.cluster_centers_, columns=[\"storey_ave\", \"price_per_sqm\"])\n",
    "centroids_df_1[\"label\"] = centroids_df_1.index\n",
    "\n",
    "centroids_df_1.head()\n"
   ]
  },
  {
   "cell_type": "code",
   "execution_count": 51,
   "metadata": {},
   "outputs": [
    {
     "name": "stderr",
     "output_type": "stream",
     "text": [
      "C:\\ProgramData\\Anaconda3\\lib\\site-packages\\pandas\\plotting\\_matplotlib\\tools.py:307: MatplotlibDeprecationWarning: \n",
      "The rowNum attribute was deprecated in Matplotlib 3.2 and will be removed two minor releases later. Use ax.get_subplotspec().rowspan.start instead.\n",
      "  layout[ax.rowNum, ax.colNum] = ax.get_visible()\n",
      "C:\\ProgramData\\Anaconda3\\lib\\site-packages\\pandas\\plotting\\_matplotlib\\tools.py:307: MatplotlibDeprecationWarning: \n",
      "The colNum attribute was deprecated in Matplotlib 3.2 and will be removed two minor releases later. Use ax.get_subplotspec().colspan.start instead.\n",
      "  layout[ax.rowNum, ax.colNum] = ax.get_visible()\n",
      "C:\\ProgramData\\Anaconda3\\lib\\site-packages\\pandas\\plotting\\_matplotlib\\tools.py:313: MatplotlibDeprecationWarning: \n",
      "The rowNum attribute was deprecated in Matplotlib 3.2 and will be removed two minor releases later. Use ax.get_subplotspec().rowspan.start instead.\n",
      "  if not layout[ax.rowNum + 1, ax.colNum]:\n",
      "C:\\ProgramData\\Anaconda3\\lib\\site-packages\\pandas\\plotting\\_matplotlib\\tools.py:313: MatplotlibDeprecationWarning: \n",
      "The colNum attribute was deprecated in Matplotlib 3.2 and will be removed two minor releases later. Use ax.get_subplotspec().colspan.start instead.\n",
      "  if not layout[ax.rowNum + 1, ax.colNum]:\n"
     ]
    },
    {
     "data": {
      "image/png": "[encoded data removed]",
      "text/plain": [
       "<Figure size 720x576 with 2 Axes>"
      ]
     },
     "metadata": {
      "needs_background": "light"
     },
     "output_type": "display_data"
    }
   ],
   "source": [
    "kmeans_fig_1 = plt.figure(figsize=(10, 8))\n",
    "ax1 = kmeans_fig_1.add_subplot(111)\n",
    "\n",
    "# Scatter Plot for All Records Colored by Their Labels\n",
    "df_1_labels.plot(kind='scatter', x='storey_ave', \n",
    "               y='price_per_sqm', c='labels', colormap='autumn', ax=ax1\n",
    "              ,marker=\"o\", s=90)\n",
    "\n",
    "\n",
    "# Scatter Plot for Centroids\n",
    "centroids_df_1.plot(kind='scatter', x='storey_ave', \n",
    "               y='price_per_sqm', color='black', ax=ax1,\n",
    "                marker=\"X\", s=120,)\n",
    "\n",
    "ax1.set_title(\"HDB units by storey & price per sqm, after k-means clustering\")\n",
    "plt.xticks(rotation=90)\n",
    "plt.show()"
   ]
  },
  {
   "cell_type": "markdown",
   "metadata": {},
   "source": [
    "#### From the clusters above, we can see that:\n",
    "#### a) for the first 28 floors, the distribution of prices are constant across floors, with half of the houses having a price thats' in the highest price category while the other half of houses' prices are rather evenly distributed among the other 4 price categories. \n",
    "#### b) from ~28th floor to ~42nd floor there are no flats that fall in the lowest price range. \n",
    "#### c) above the 42nd floor, the prices of all houses fall in the most expensive category only. "
   ]
  },
  {
   "cell_type": "markdown",
   "metadata": {},
   "source": [
    "### B2. region and price per sqm"
   ]
  },
  {
   "cell_type": "code",
   "execution_count": 52,
   "metadata": {},
   "outputs": [
    {
     "data": {
      "text/html": [
       "<div>\n",
       "<style scoped>\n",
       "    .dataframe tbody tr th:only-of-type {\n",
       "        vertical-align: middle;\n",
       "    }\n",
       "\n",
       "    .dataframe tbody tr th {\n",
       "        vertical-align: top;\n",
       "    }\n",
       "\n",
       "    .dataframe thead th {\n",
       "        text-align: right;\n",
       "    }\n",
       "</style>\n",
       "<table border=\"1\" class=\"dataframe\">\n",
       "  <thead>\n",
       "    <tr style=\"text-align: right;\">\n",
       "      <th></th>\n",
       "      <th>area_int</th>\n",
       "      <th>price_per_sqm</th>\n",
       "    </tr>\n",
       "  </thead>\n",
       "  <tbody>\n",
       "    <tr>\n",
       "      <td>0</td>\n",
       "      <td>3</td>\n",
       "      <td>5272.727273</td>\n",
       "    </tr>\n",
       "    <tr>\n",
       "      <td>1</td>\n",
       "      <td>3</td>\n",
       "      <td>3731.343284</td>\n",
       "    </tr>\n",
       "    <tr>\n",
       "      <td>2</td>\n",
       "      <td>3</td>\n",
       "      <td>3910.447761</td>\n",
       "    </tr>\n",
       "    <tr>\n",
       "      <td>3</td>\n",
       "      <td>3</td>\n",
       "      <td>3897.058824</td>\n",
       "    </tr>\n",
       "    <tr>\n",
       "      <td>4</td>\n",
       "      <td>3</td>\n",
       "      <td>3955.223881</td>\n",
       "    </tr>\n",
       "  </tbody>\n",
       "</table>\n",
       "</div>"
      ],
      "text/plain": [
       "   area_int  price_per_sqm\n",
       "0         3    5272.727273\n",
       "1         3    3731.343284\n",
       "2         3    3910.447761\n",
       "3         3    3897.058824\n",
       "4         3    3955.223881"
      ]
     },
     "execution_count": 52,
     "metadata": {},
     "output_type": "execute_result"
    }
   ],
   "source": [
    "df_2 = hdb_data[[\"area_int\", \"price_per_sqm\"]]\n",
    "df_2_labels = hdb_data[[\"area_int\", \"price_per_sqm\"]]\n",
    "distorsions_2 = []\n",
    "\n",
    "df_2.head()"
   ]
  },
  {
   "cell_type": "code",
   "execution_count": 53,
   "metadata": {},
   "outputs": [
    {
     "data": {
      "text/plain": [
       "Text(0.5, 1.0, 'Elbow curve 2')"
      ]
     },
     "execution_count": 53,
     "metadata": {},
     "output_type": "execute_result"
    },
    {
     "data": {
      "image/png": "[encoded data removed]",
      "text/plain": [
       "<Figure size 1080x360 with 1 Axes>"
      ]
     },
     "metadata": {
      "needs_background": "light"
     },
     "output_type": "display_data"
    }
   ],
   "source": [
    "for k in range(2, 20):\n",
    "    kmeans_2 = KMeans(n_clusters=k)\n",
    "    kmeans_2.fit(df_2)\n",
    "    distorsions_2.append(kmeans_2.inertia_)\n",
    "\n",
    "fig_2 = plt.figure(figsize=(15, 5))\n",
    "plt.plot(range(2, 20), distorsions_2)\n",
    "plt.grid(True)\n",
    "plt.title('Elbow curve 2')"
   ]
  },
  {
   "cell_type": "code",
   "execution_count": 54,
   "metadata": {},
   "outputs": [
    {
     "name": "stderr",
     "output_type": "stream",
     "text": [
      "C:\\ProgramData\\Anaconda3\\lib\\site-packages\\ipykernel_launcher.py:8: SettingWithCopyWarning: \n",
      "A value is trying to be set on a copy of a slice from a DataFrame.\n",
      "Try using .loc[row_indexer,col_indexer] = value instead\n",
      "\n",
      "See the caveats in the documentation: http://pandas.pydata.org/pandas-docs/stable/user_guide/indexing.html#returning-a-view-versus-a-copy\n",
      "  \n"
     ]
    },
    {
     "data": {
      "text/html": [
       "<div>\n",
       "<style scoped>\n",
       "    .dataframe tbody tr th:only-of-type {\n",
       "        vertical-align: middle;\n",
       "    }\n",
       "\n",
       "    .dataframe tbody tr th {\n",
       "        vertical-align: top;\n",
       "    }\n",
       "\n",
       "    .dataframe thead th {\n",
       "        text-align: right;\n",
       "    }\n",
       "</style>\n",
       "<table border=\"1\" class=\"dataframe\">\n",
       "  <thead>\n",
       "    <tr style=\"text-align: right;\">\n",
       "      <th></th>\n",
       "      <th>area_int</th>\n",
       "      <th>price_per_sqm</th>\n",
       "      <th>labels</th>\n",
       "    </tr>\n",
       "  </thead>\n",
       "  <tbody>\n",
       "    <tr>\n",
       "      <td>0</td>\n",
       "      <td>3</td>\n",
       "      <td>5272.727273</td>\n",
       "      <td>3</td>\n",
       "    </tr>\n",
       "    <tr>\n",
       "      <td>1</td>\n",
       "      <td>3</td>\n",
       "      <td>3731.343284</td>\n",
       "      <td>2</td>\n",
       "    </tr>\n",
       "    <tr>\n",
       "      <td>2</td>\n",
       "      <td>3</td>\n",
       "      <td>3910.447761</td>\n",
       "      <td>2</td>\n",
       "    </tr>\n",
       "    <tr>\n",
       "      <td>3</td>\n",
       "      <td>3</td>\n",
       "      <td>3897.058824</td>\n",
       "      <td>2</td>\n",
       "    </tr>\n",
       "    <tr>\n",
       "      <td>4</td>\n",
       "      <td>3</td>\n",
       "      <td>3955.223881</td>\n",
       "      <td>2</td>\n",
       "    </tr>\n",
       "  </tbody>\n",
       "</table>\n",
       "</div>"
      ],
      "text/plain": [
       "   area_int  price_per_sqm  labels\n",
       "0         3    5272.727273       3\n",
       "1         3    3731.343284       2\n",
       "2         3    3910.447761       2\n",
       "3         3    3897.058824       2\n",
       "4         3    3955.223881       2"
      ]
     },
     "execution_count": 54,
     "metadata": {},
     "output_type": "execute_result"
    }
   ],
   "source": [
    "k_2 = 4\n",
    "model_2 = KMeans(n_clusters=k_2,  # < Initialise Number Of Clusters here\n",
    "               random_state=0)\n",
    "\n",
    "hdb_kmeans_2 = model_2.fit(df_2) # < DataFrame of All Variables\n",
    "\n",
    "\n",
    "df_2_labels[\"labels\"] = hdb_kmeans_2.labels_\n",
    "df_2_labels.head()"
   ]
  },
  {
   "cell_type": "code",
   "execution_count": 55,
   "metadata": {},
   "outputs": [
    {
     "data": {
      "text/html": [
       "<div>\n",
       "<style scoped>\n",
       "    .dataframe tbody tr th:only-of-type {\n",
       "        vertical-align: middle;\n",
       "    }\n",
       "\n",
       "    .dataframe tbody tr th {\n",
       "        vertical-align: top;\n",
       "    }\n",
       "\n",
       "    .dataframe thead th {\n",
       "        text-align: right;\n",
       "    }\n",
       "</style>\n",
       "<table border=\"1\" class=\"dataframe\">\n",
       "  <thead>\n",
       "    <tr style=\"text-align: right;\">\n",
       "      <th></th>\n",
       "      <th>area_int</th>\n",
       "      <th>price_per_sqm</th>\n",
       "      <th>label</th>\n",
       "    </tr>\n",
       "  </thead>\n",
       "  <tbody>\n",
       "    <tr>\n",
       "      <td>0</td>\n",
       "      <td>2.650667</td>\n",
       "      <td>4475.464617</td>\n",
       "      <td>0</td>\n",
       "    </tr>\n",
       "    <tr>\n",
       "      <td>1</td>\n",
       "      <td>4.339823</td>\n",
       "      <td>7942.967165</td>\n",
       "      <td>1</td>\n",
       "    </tr>\n",
       "    <tr>\n",
       "      <td>2</td>\n",
       "      <td>2.158641</td>\n",
       "      <td>3586.265394</td>\n",
       "      <td>2</td>\n",
       "    </tr>\n",
       "    <tr>\n",
       "      <td>3</td>\n",
       "      <td>3.250518</td>\n",
       "      <td>5717.073700</td>\n",
       "      <td>3</td>\n",
       "    </tr>\n",
       "  </tbody>\n",
       "</table>\n",
       "</div>"
      ],
      "text/plain": [
       "   area_int  price_per_sqm  label\n",
       "0  2.650667    4475.464617      0\n",
       "1  4.339823    7942.967165      1\n",
       "2  2.158641    3586.265394      2\n",
       "3  3.250518    5717.073700      3"
      ]
     },
     "execution_count": 55,
     "metadata": {},
     "output_type": "execute_result"
    }
   ],
   "source": [
    "centroids_df_2 = pd.DataFrame(hdb_kmeans_2.cluster_centers_, columns=[\"area_int\", \"price_per_sqm\"])\n",
    "centroids_df_2[\"label\"] = centroids_df_2.index\n",
    "\n",
    "centroids_df_2.head()"
   ]
  },
  {
   "cell_type": "code",
   "execution_count": 56,
   "metadata": {},
   "outputs": [
    {
     "name": "stderr",
     "output_type": "stream",
     "text": [
      "C:\\ProgramData\\Anaconda3\\lib\\site-packages\\pandas\\plotting\\_matplotlib\\tools.py:307: MatplotlibDeprecationWarning: \n",
      "The rowNum attribute was deprecated in Matplotlib 3.2 and will be removed two minor releases later. Use ax.get_subplotspec().rowspan.start instead.\n",
      "  layout[ax.rowNum, ax.colNum] = ax.get_visible()\n",
      "C:\\ProgramData\\Anaconda3\\lib\\site-packages\\pandas\\plotting\\_matplotlib\\tools.py:307: MatplotlibDeprecationWarning: \n",
      "The colNum attribute was deprecated in Matplotlib 3.2 and will be removed two minor releases later. Use ax.get_subplotspec().colspan.start instead.\n",
      "  layout[ax.rowNum, ax.colNum] = ax.get_visible()\n",
      "C:\\ProgramData\\Anaconda3\\lib\\site-packages\\pandas\\plotting\\_matplotlib\\tools.py:313: MatplotlibDeprecationWarning: \n",
      "The rowNum attribute was deprecated in Matplotlib 3.2 and will be removed two minor releases later. Use ax.get_subplotspec().rowspan.start instead.\n",
      "  if not layout[ax.rowNum + 1, ax.colNum]:\n",
      "C:\\ProgramData\\Anaconda3\\lib\\site-packages\\pandas\\plotting\\_matplotlib\\tools.py:313: MatplotlibDeprecationWarning: \n",
      "The colNum attribute was deprecated in Matplotlib 3.2 and will be removed two minor releases later. Use ax.get_subplotspec().colspan.start instead.\n",
      "  if not layout[ax.rowNum + 1, ax.colNum]:\n"
     ]
    },
    {
     "data": {
      "image/png": "[encoded data removed]",
      "text/plain": [
       "<Figure size 720x576 with 2 Axes>"
      ]
     },
     "metadata": {
      "needs_background": "light"
     },
     "output_type": "display_data"
    }
   ],
   "source": [
    "kmeans_fig_2 = plt.figure(figsize=(10, 8))\n",
    "ax1 = kmeans_fig_2.add_subplot(111)\n",
    "\n",
    "# Scatter Plot for All Records Colored by Their Labels\n",
    "df_2_labels.plot(kind='scatter', x='area_int', \n",
    "               y='price_per_sqm', c='labels', colormap='autumn', ax=ax1\n",
    "              ,marker=\"o\", s=90)\n",
    "\n",
    "\n",
    "# Scatter Plot for Centroids\n",
    "centroids_df_2.plot(kind='scatter', x='area_int', \n",
    "               y='price_per_sqm', color='black', ax=ax1,\n",
    "                marker=\"X\", s=120,)\n",
    "\n",
    "ax1.set_title(\"HDB units by region & price per sqm, after k-means clustering\")\n",
    "plt.xticks(rotation=90)\n",
    "plt.show()"
   ]
  },
  {
   "cell_type": "markdown",
   "metadata": {},
   "source": [
    "#### From the visualization above, we can see that the price per square metre of houses are distributed similarly across the North (1), South (2) and East (3) regions in singapore. The west (4) has a slightly higher number of houses in the highest price category, while the Central area has a significantly higher number of houses falling in the most expensive category. "
   ]
  },
  {
   "cell_type": "markdown",
   "metadata": {},
   "source": [
    "### B3. flat_type and price_per_sqm"
   ]
  },
  {
   "cell_type": "code",
   "execution_count": 57,
   "metadata": {},
   "outputs": [
    {
     "data": {
      "text/html": [
       "<div>\n",
       "<style scoped>\n",
       "    .dataframe tbody tr th:only-of-type {\n",
       "        vertical-align: middle;\n",
       "    }\n",
       "\n",
       "    .dataframe tbody tr th {\n",
       "        vertical-align: top;\n",
       "    }\n",
       "\n",
       "    .dataframe thead th {\n",
       "        text-align: right;\n",
       "    }\n",
       "</style>\n",
       "<table border=\"1\" class=\"dataframe\">\n",
       "  <thead>\n",
       "    <tr style=\"text-align: right;\">\n",
       "      <th></th>\n",
       "      <th>flat_type_int</th>\n",
       "      <th>price_per_sqm</th>\n",
       "    </tr>\n",
       "  </thead>\n",
       "  <tbody>\n",
       "    <tr>\n",
       "      <td>0</td>\n",
       "      <td>2</td>\n",
       "      <td>5272.727273</td>\n",
       "    </tr>\n",
       "    <tr>\n",
       "      <td>1</td>\n",
       "      <td>3</td>\n",
       "      <td>3731.343284</td>\n",
       "    </tr>\n",
       "    <tr>\n",
       "      <td>2</td>\n",
       "      <td>3</td>\n",
       "      <td>3910.447761</td>\n",
       "    </tr>\n",
       "    <tr>\n",
       "      <td>3</td>\n",
       "      <td>3</td>\n",
       "      <td>3897.058824</td>\n",
       "    </tr>\n",
       "    <tr>\n",
       "      <td>4</td>\n",
       "      <td>3</td>\n",
       "      <td>3955.223881</td>\n",
       "    </tr>\n",
       "  </tbody>\n",
       "</table>\n",
       "</div>"
      ],
      "text/plain": [
       "   flat_type_int  price_per_sqm\n",
       "0              2    5272.727273\n",
       "1              3    3731.343284\n",
       "2              3    3910.447761\n",
       "3              3    3897.058824\n",
       "4              3    3955.223881"
      ]
     },
     "execution_count": 57,
     "metadata": {},
     "output_type": "execute_result"
    }
   ],
   "source": [
    "df_3 = hdb_data[[\"flat_type_int\", \"price_per_sqm\"]]\n",
    "df_3_labels = hdb_data[[\"flat_type_int\", \"price_per_sqm\"]]\n",
    "distorsions_3 = []\n",
    "\n",
    "df_3.head()"
   ]
  },
  {
   "cell_type": "code",
   "execution_count": 58,
   "metadata": {},
   "outputs": [
    {
     "data": {
      "text/plain": [
       "Text(0.5, 1.0, 'Elbow Plot 3')"
      ]
     },
     "execution_count": 58,
     "metadata": {},
     "output_type": "execute_result"
    },
    {
     "data": {
      "image/png": "[encoded data removed]",
      "text/plain": [
       "<Figure size 1080x360 with 1 Axes>"
      ]
     },
     "metadata": {
      "needs_background": "light"
     },
     "output_type": "display_data"
    }
   ],
   "source": [
    "for k in range(2,20):\n",
    "    kmeans_3 = KMeans(n_clusters=k)\n",
    "    kmeans_3.fit(df_3)\n",
    "    distorsions_3.append(kmeans_3.inertia_)\n",
    "\n",
    "fig_3 = plt.figure(figsize=(15,5))\n",
    "plt.plot(range(2,20), distorsions_3)\n",
    "plt.grid(True)\n",
    "plt.title(\"Elbow Plot 3\")\n"
   ]
  },
  {
   "cell_type": "code",
   "execution_count": null,
   "metadata": {},
   "outputs": [],
   "source": [
    "k_3 = 4\n",
    "\n",
    "model_3 = KMeans(n_clusters=k_3,  # < Initialise Number Of Clusters here\n",
    "               random_state=0)\n",
    "\n",
    "hdb_kmeans_3 = model_3.fit(df_3) # < DataFrame of All Variables\n",
    "\n",
    "\n",
    "df_3_labels[\"labels\"] = hdb_kmeans_3.labels_\n",
    "df_3_labels.head()"
   ]
  },
  {
   "cell_type": "code",
   "execution_count": null,
   "metadata": {},
   "outputs": [],
   "source": [
    "centroids_df_3 = pd.DataFrame(hdb_kmeans_2.cluster_centers_, columns=[\"flat_type_int\", \"price_per_sqm\"])\n",
    "centroids_df_3[\"label\"] = centroids_df_3.index\n",
    "\n",
    "centroids_df_3.head()"
   ]
  },
  {
   "cell_type": "code",
   "execution_count": null,
   "metadata": {},
   "outputs": [],
   "source": [
    "kmeans_fig_3 = plt.figure(figsize=(10, 8))\n",
    "ax1 = kmeans_fig_3.add_subplot(111)\n",
    "\n",
    "# Scatter Plot for All Records Colored by Their Labels\n",
    "df_3_labels.plot(kind='scatter', x='flat_type_int', \n",
    "               y='price_per_sqm', c='labels', colormap='autumn', ax=ax1\n",
    "              ,marker=\"o\", s=90)\n",
    "\n",
    "\n",
    "# Scatter Plot for Centroids\n",
    "centroids_df_3.plot(kind='scatter', x='flat_type_int', \n",
    "               y='price_per_sqm', color='black', ax=ax1,\n",
    "                marker=\"X\", s=120,)\n",
    "\n",
    "ax1.set_title(\"HDB units by flat_type & price per sqm, after k-means clustering\")\n",
    "plt.xticks(rotation=90)\n",
    "plt.show()"
   ]
  },
  {
   "cell_type": "markdown",
   "metadata": {},
   "source": [
    "#### From the clusters above, we can see that almost all 1-bedroom flats (1) fall within the intermediate price per sqm category. The variation in price per sqm increases as the number of rooms in a flat increases from 1 to 5. "
   ]
  },
  {
   "cell_type": "markdown",
   "metadata": {},
   "source": [
    "# Conclusion and Insights"
   ]
  },
  {
   "cell_type": "markdown",
   "metadata": {},
   "source": [
    "To conclude, based on the outputs from the univariate linear regression, we discovered that the Town that the HDB apartment belonged to was the most reliable and significant predictor of the price per square meter. The regression model gave an R-squared value of 47.5% when fed the training data, and 47.1% when fed the testing data. This shows that the regression model was able to account for most of the variance in its prediction. Although this score is not extremely convincing, compared to the other regression that were build (#2 to #3), this regression model #1 yielded the best R-squared score and Mean Squared Error score.\n",
    "\n",
    "From the k-means models, one can determine the expected price range of their units based on different features. This, however, would be more meaningful for those living in higher floors (for model B1), and 1-bedroom flats or multi-generation apartments (for model B3) as these specific characteristics have more narrow and defined price ranges. Nevertheless, the segmentation of houses into distinct price categories based on these traits can be used by real estate agents for understanding resale prices."
   ]
  }
 ],
 "metadata": {
  "kernelspec": {
   "display_name": "Python 3",
   "language": "python",
   "name": "python3"
  },
  "language_info": {
   "codemirror_mode": {
    "name": "ipython",
    "version": 3
   },
   "file_extension": ".py",
   "mimetype": "text/x-python",
   "name": "python",
   "nbconvert_exporter": "python",
   "pygments_lexer": "ipython3",
   "version": "3.7.4"
  }
 },
 "nbformat": 4,
 "nbformat_minor": 4
}
